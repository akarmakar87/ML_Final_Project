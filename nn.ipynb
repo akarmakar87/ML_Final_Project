{
 "cells": [
  {
   "cell_type": "code",
   "execution_count": 25,
   "metadata": {},
   "outputs": [],
   "source": [
    "# Step 1\n",
    "# Importing the necessary libraries\n",
    "from sklearn.model_selection import train_test_split\n",
    "from sklearn.neural_network import MLPClassifier\n",
    "from sklearn.metrics import confusion_matrix, accuracy_score \n",
    "import pandas as pd"
   ]
  },
  {
   "cell_type": "code",
   "execution_count": 26,
   "metadata": {},
   "outputs": [],
   "source": [
    "# Step 2\n",
    "# Loading the dataset\n",
    "features = pd.read_csv('scaled_features.csv')\n",
    "labels = pd.read_csv('labels.csv')\n",
    "\n",
    "# Step 3\n",
    "# Splitting the data into tst and train\n",
    "# 80 - 20 Split\n",
    "x_train, x_test, y_train, y_test = train_test_split(features, labels, test_size=0.20, random_state=4)"
   ]
  },
  {
   "cell_type": "code",
   "execution_count": 27,
   "metadata": {},
   "outputs": [
    {
     "name": "stderr",
     "output_type": "stream",
     "text": [
      "C:\\Users\\ashak\\AppData\\Local\\Packages\\PythonSoftwareFoundation.Python.3.9_qbz5n2kfra8p0\\LocalCache\\local-packages\\Python39\\site-packages\\sklearn\\neural_network\\_multilayer_perceptron.py:1091: DataConversionWarning: A column-vector y was passed when a 1d array was expected. Please change the shape of y to (n_samples, ), for example using ravel().\n",
      "  y = column_or_1d(y, warn=True)\n"
     ]
    },
    {
     "name": "stdout",
     "output_type": "stream",
     "text": [
      "Accuracy for Neural Network is: 67.15518260252925\n",
      "Confusion Matrix\n",
      "[[451  20  18   0  10  15  55 234   8  20   3  12  10  39  36]\n",
      " [ 17 242   4   3   5  31   1  15   6  13   0   3   0   9   7]\n",
      " [ 43  15 258   1  39  87   6 153   4   1   0   1   1   1  10]\n",
      " [ 10  18   9   9   1  28   1   6   3   1   0   6   0   1   1]\n",
      " [ 21   1  18   0 152  27   2 163   1   1   0   1   0   0   8]\n",
      " [ 30  22  76   5  14 164   1  81   3   3   0   7   0   2   6]\n",
      " [ 68   7   9   0   4   6 127 134   4   9   0   6   0   4  13]\n",
      " [128  11 155   0  51  56  59 707   3   2   0   6   0   4  12]\n",
      " [  4   5   9   0   0   0   0   1 559   0   0   0   0   0   0]\n",
      " [  5   7   1   0   0   1   2   1   0 536   5   0   0   0  51]\n",
      " [  8   0   0   0   0   0   3   0   0   4 549   0  14  23   7]\n",
      " [  8   0   1   0   0   4   0   6   0   0   0 533  59   6   0]\n",
      " [  6   0   0   0   0   0   0   0   0   0   9  36 471  17   0]\n",
      " [ 22   8   0   0   1   1   1   0   0   0  22   3  24 482   3]\n",
      " [ 19  10   1   1   5   4   3   7   0  48   2   0   0   6 442]]\n"
     ]
    },
    {
     "name": "stderr",
     "output_type": "stream",
     "text": [
      "C:\\Users\\ashak\\AppData\\Local\\Packages\\PythonSoftwareFoundation.Python.3.9_qbz5n2kfra8p0\\LocalCache\\local-packages\\Python39\\site-packages\\sklearn\\neural_network\\_multilayer_perceptron.py:679: ConvergenceWarning: Stochastic Optimizer: Maximum iterations (200) reached and the optimization hasn't converged yet.\n",
      "  warnings.warn(\n"
     ]
    }
   ],
   "source": [
    "# Step 4\n",
    "# Making the Neural Network Classifier\n",
    "\n",
    "NN = MLPClassifier(random_state=1)\n",
    "\n",
    "# NN = MLPClassifier(\n",
    "#     hidden_layer_sizes=(13,),\n",
    "#     max_iter=30,\n",
    "#     activation = 'relu',\n",
    "#     solver='sgd',\n",
    "#     random_state=1\n",
    "#     )\n",
    "\n",
    "# Step 5\n",
    "# Training the model on the training data and labels\n",
    "NN.fit(x_train, y_train)\n",
    "\n",
    "# Step 6\n",
    "# Testing the model i.e. predicting the labels of the test data.\n",
    "y_pred = NN.predict(x_test)\n",
    "\n",
    "# Step 7\n",
    "# Evaluating the results of the model\n",
    "accuracy = accuracy_score(y_test,y_pred)*100\n",
    "confusion_mat = confusion_matrix(y_test,y_pred)\n",
    "\n",
    "# Step 8\n",
    "# Printing the Results\n",
    "print(\"Accuracy for Neural Network is:\",accuracy)\n",
    "print(\"Confusion Matrix\")\n",
    "print(confusion_mat)\n"
   ]
  }
 ],
 "metadata": {
  "kernelspec": {
   "display_name": "Python 3",
   "language": "python",
   "name": "python3"
  },
  "language_info": {
   "codemirror_mode": {
    "name": "ipython",
    "version": 3
   },
   "file_extension": ".py",
   "mimetype": "text/x-python",
   "name": "python",
   "nbconvert_exporter": "python",
   "pygments_lexer": "ipython3",
   "version": "3.9.13"
  },
  "orig_nbformat": 4
 },
 "nbformat": 4,
 "nbformat_minor": 2
}
