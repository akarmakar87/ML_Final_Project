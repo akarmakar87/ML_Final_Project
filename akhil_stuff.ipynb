{
 "cells": [
  {
   "attachments": {},
   "cell_type": "markdown",
   "metadata": {},
   "source": [
    "Group Members: Asha Karmakar, Akhil Iyer, Megan Sundheim, Grace Kim\n",
    "Asha -\n",
    "Grace -\n",
    "Akhil - \n",
    "Megan - "
   ]
  },
  {
   "cell_type": "code",
   "execution_count": 2,
   "metadata": {},
   "outputs": [],
   "source": [
    "import pandas as pd\n",
    "import numpy as np\n",
    "import sklearn as sk\n",
    "import matplotlib.pyplot as plt\n",
    "import random"
   ]
  },
  {
   "attachments": {},
   "cell_type": "markdown",
   "metadata": {},
   "source": [
    "<p> https://developer.spotify.com/documentation/web-api/reference/#/operations/get-several-audio-features </p>"
   ]
  },
  {
   "attachments": {},
   "cell_type": "markdown",
   "metadata": {},
   "source": [
    "<h1> Data Preprocessing & Exploration </h1>"
   ]
  },
  {
   "cell_type": "code",
   "execution_count": 3,
   "metadata": {},
   "outputs": [
    {
     "name": "stderr",
     "output_type": "stream",
     "text": [
      "/var/folders/pg/jgps72r91276npng3bqr2zg40000gn/T/ipykernel_1457/3599437126.py:2: DtypeWarning: Columns (19) have mixed types. Specify dtype option on import or set low_memory=False.\n",
      "  df = pd.read_csv(\"./data/genres.csv\")\n"
     ]
    }
   ],
   "source": [
    "# Read in csv file\n",
    "df = pd.read_csv(\"./data/genres.csv\")"
   ]
  },
  {
   "cell_type": "code",
   "execution_count": 4,
   "metadata": {},
   "outputs": [],
   "source": [
    "# Clean data\n",
    "# Remove the following columns: type, id, uri, track_href, analysis_url, unnamed, title, song_name\n",
    "df = df[['danceability', 'energy', 'key', 'loudness', 'mode', 'speechiness', 'acousticness', 'instrumentalness', 'liveness', 'valence', 'tempo', 'duration_ms', 'time_signature', 'genre']]"
   ]
  },
  {
   "cell_type": "code",
   "execution_count": 5,
   "metadata": {},
   "outputs": [
    {
     "name": "stdout",
     "output_type": "stream",
     "text": [
      "       danceability  energy  key  loudness  mode  speechiness  acousticness  \\\n",
      "0             0.831   0.814    2    -7.364     1       0.4200      0.059800   \n",
      "1             0.719   0.493    8    -7.230     1       0.0794      0.401000   \n",
      "2             0.850   0.893    5    -4.783     1       0.0623      0.013800   \n",
      "3             0.476   0.781    0    -4.710     1       0.1030      0.023700   \n",
      "4             0.798   0.624    2    -7.668     1       0.2930      0.217000   \n",
      "...             ...     ...  ...       ...   ...          ...           ...   \n",
      "42300         0.528   0.693    4    -5.148     1       0.0304      0.031500   \n",
      "42301         0.517   0.768    0    -7.922     0       0.0479      0.022500   \n",
      "42302         0.361   0.821    8    -3.102     1       0.0505      0.026000   \n",
      "42303         0.477   0.921    6    -4.777     0       0.0392      0.000551   \n",
      "42304         0.529   0.945    9    -5.862     1       0.0615      0.001890   \n",
      "\n",
      "       instrumentalness  liveness  valence    tempo  duration_ms      genre  \\\n",
      "0              0.013400    0.0556   0.3890  156.985       124539  Dark Trap   \n",
      "1              0.000000    0.1180   0.1240  115.080       224427  Dark Trap   \n",
      "2              0.000004    0.3720   0.0391  218.050        98821  Dark Trap   \n",
      "3              0.000000    0.1140   0.1750  186.948       123661  Dark Trap   \n",
      "4              0.000000    0.1660   0.5910  147.988       123298  Dark Trap   \n",
      "...                 ...       ...      ...      ...          ...        ...   \n",
      "42300          0.000345    0.1210   0.3940  150.013       269208  hardstyle   \n",
      "42301          0.000018    0.2050   0.3830  149.928       210112  hardstyle   \n",
      "42302          0.000242    0.3850   0.1240  154.935       234823  hardstyle   \n",
      "42303          0.029600    0.0575   0.4880  150.042       323200  hardstyle   \n",
      "42304          0.000055    0.4140   0.1340  155.047       162161  hardstyle   \n",
      "\n",
      "       time_signature_1  time_signature_3  time_signature_4  time_signature_5  \n",
      "0                     0                 0                 1                 0  \n",
      "1                     0                 0                 1                 0  \n",
      "2                     0                 0                 1                 0  \n",
      "3                     0                 1                 0                 0  \n",
      "4                     0                 0                 1                 0  \n",
      "...                 ...               ...               ...               ...  \n",
      "42300                 0                 0                 1                 0  \n",
      "42301                 0                 0                 1                 0  \n",
      "42302                 0                 0                 1                 0  \n",
      "42303                 0                 0                 1                 0  \n",
      "42304                 0                 0                 1                 0  \n",
      "\n",
      "[42305 rows x 17 columns]\n",
      "(42305, 17)\n"
     ]
    }
   ],
   "source": [
    "# one hot encode time signature\n",
    "df = pd.get_dummies(df, columns=['time_signature'], drop_first=False)\n",
    "\n",
    "print (df)\n",
    "print(df.shape)"
   ]
  },
  {
   "cell_type": "code",
   "execution_count": 6,
   "metadata": {},
   "outputs": [
    {
     "name": "stdout",
     "output_type": "stream",
     "text": [
      "12\n"
     ]
    }
   ],
   "source": [
    "# Separate data into features and class labels\n",
    "print(df.columns.get_loc('genre'))\n",
    "features = pd.concat([df.iloc[:, :12], df.iloc[:, 13:]], axis=1)\n",
    "labels = df.iloc[:, 12]\n",
    "# .values.ravel()"
   ]
  },
  {
   "cell_type": "code",
   "execution_count": 7,
   "metadata": {},
   "outputs": [
    {
     "name": "stdout",
     "output_type": "stream",
     "text": [
      "15\n",
      "genre\n",
      "Dark Trap          4578\n",
      "Emo                1680\n",
      "Hiphop             3028\n",
      "Pop                 461\n",
      "Rap                1848\n",
      "RnB                2099\n",
      "Trap Metal         1956\n",
      "Underground Rap    5875\n",
      "dnb                2966\n",
      "hardstyle          2936\n",
      "psytrance          2961\n",
      "techhouse          2975\n",
      "techno             2956\n",
      "trance             2999\n",
      "trap               2987\n",
      "dtype: int64\n"
     ]
    }
   ],
   "source": [
    "# print (labels)\n",
    "label_groups = df.groupby('genre')\n",
    "print(len(label_groups.size()))\n",
    "\n",
    "print (label_groups.size())"
   ]
  },
  {
   "cell_type": "code",
   "execution_count": 8,
   "metadata": {},
   "outputs": [
    {
     "data": {
      "text/plain": [
       "0"
      ]
     },
     "execution_count": 8,
     "metadata": {},
     "output_type": "execute_result"
    }
   ],
   "source": [
    "# There are no missing values:\n",
    "null_data = df[df.isnull().any(axis=1)]\n",
    "len(null_data)"
   ]
  },
  {
   "cell_type": "code",
   "execution_count": 9,
   "metadata": {},
   "outputs": [
    {
     "data": {
      "text/plain": [
       "[Text(0.5, 0, 'danceability'),\n",
       " Text(1.5, 0, 'energy'),\n",
       " Text(2.5, 0, 'key'),\n",
       " Text(3.5, 0, 'loudness'),\n",
       " Text(4.5, 0, 'mode'),\n",
       " Text(5.5, 0, 'speechiness'),\n",
       " Text(6.5, 0, 'acousticness'),\n",
       " Text(7.5, 0, 'instrumentalness'),\n",
       " Text(8.5, 0, 'liveness'),\n",
       " Text(9.5, 0, 'valence'),\n",
       " Text(10.5, 0, 'tempo'),\n",
       " Text(11.5, 0, 'duration_ms'),\n",
       " Text(12.5, 0, 'time_signature_1'),\n",
       " Text(13.5, 0, 'time_signature_3'),\n",
       " Text(14.5, 0, 'time_signature_4'),\n",
       " Text(15.5, 0, 'time_signature_5')]"
      ]
     },
     "execution_count": 9,
     "metadata": {},
     "output_type": "execute_result"
    },
    {
     "data": {
      "image/png": "[encoded data removed]",
      "text/plain": [
       "<Figure size 432x288 with 2 Axes>"
      ]
     },
     "metadata": {
      "needs_background": "light"
     },
     "output_type": "display_data"
    }
   ],
   "source": [
    "import seaborn as sns\n",
    "\n",
    "# correlation between features\n",
    "\n",
    "ax = sns.heatmap(\n",
    "    features.corr(), \n",
    "    vmin=-1, vmax=1, center=0,\n",
    "    cmap=sns.diverging_palette(20, 220, n=200),\n",
    "    square=True\n",
    ")\n",
    "\n",
    "ax.set_xticklabels(\n",
    "    ax.get_xticklabels(),\n",
    "    rotation=45,\n",
    "    horizontalalignment='right'\n",
    ")"
   ]
  },
  {
   "cell_type": "code",
   "execution_count": 10,
   "metadata": {},
   "outputs": [
    {
     "data": {
      "text/plain": [
       "[array([ 1, -1, -1, ...,  1,  1,  1]),\n",
       " array([1, 1, 1, ..., 1, 1, 1]),\n",
       " array([1, 1, 1, ..., 1, 1, 1])]"
      ]
     },
     "execution_count": 10,
     "metadata": {},
     "output_type": "execute_result"
    }
   ],
   "source": [
    "# Perform Anomaly Detection\n",
    "from sklearn.covariance import EllipticEnvelope\n",
    "from sklearn.ensemble import IsolationForest\n",
    "from sklearn.neighbors import LocalOutlierFactor\n",
    "from sklearn.svm import OneClassSVM\n",
    "\n",
    "y_pred_list = []\n",
    "\n",
    "envelope_pred = EllipticEnvelope().fit_predict(features)\n",
    "y_pred_list.append(envelope_pred)\n",
    "\n",
    "# apply IsolationForest AD\n",
    "forest_pred = IsolationForest().fit_predict(features)\n",
    "y_pred_list.append(forest_pred)\n",
    "\n",
    "# apply LocalOutlierFactor AD\n",
    "lof_pred = LocalOutlierFactor().fit_predict(features)\n",
    "y_pred_list.append(lof_pred)\n",
    "\n",
    "y_pred_list"
   ]
  },
  {
   "cell_type": "code",
   "execution_count": 11,
   "metadata": {},
   "outputs": [
    {
     "name": "stdout",
     "output_type": "stream",
     "text": [
      "Counter({1: 38074, -1: 4231})\n",
      "Counter({1: 37410, -1: 4895})\n",
      "Counter({1: 40473, -1: 1832})\n"
     ]
    }
   ],
   "source": [
    "from collections import Counter\n",
    "\n",
    "for arr in y_pred_list:\n",
    "    c = Counter(arr)\n",
    "    print(c)"
   ]
  },
  {
   "cell_type": "code",
   "execution_count": 12,
   "metadata": {},
   "outputs": [
    {
     "name": "stdout",
     "output_type": "stream",
     "text": [
      "num features before PCA:  16\n",
      "num features after PCA:  13\n"
     ]
    }
   ],
   "source": [
    "# Need to standardize for PCA.\n",
    "from sklearn.preprocessing import StandardScaler\n",
    "from sklearn.decomposition import PCA\n",
    "\n",
    "scaled_data = StandardScaler().fit_transform(features.values)\n",
    "music_data_scaled = pd.DataFrame(scaled_data, columns=features.columns)\n",
    "music_data_scaled.head()\n",
    "\n",
    "print(\"num features before PCA: \", len(features.columns))\n",
    "\n",
    "# your code goes here\n",
    "pca = PCA(n_components=0.95, svd_solver='full')\n",
    "pca_data = pca.fit_transform(music_data_scaled)\n",
    "music_data_pca = pd.DataFrame(pca_data)\n",
    "music_data_pca.head()\n",
    "\n",
    "print(\"num features after PCA: \", len(music_data_pca.columns))"
   ]
  },
  {
   "cell_type": "code",
   "execution_count": 13,
   "metadata": {},
   "outputs": [
    {
     "name": "stdout",
     "output_type": "stream",
     "text": [
      "Number of records in training set: 33844\n",
      "Number of records in test set: 8461\n"
     ]
    }
   ],
   "source": [
    "# Perform decision tree classification before PCA and then perform another decision tree after PCA\n",
    "\n",
    "import sklearn.model_selection as ms\n",
    "\n",
    "x_train, x_test, y_train, y_test = ms.train_test_split(features, labels, test_size=0.2)\n",
    "\n",
    "print(\"Number of records in training set:\", len(x_train.index))\n",
    "print(\"Number of records in test set:\", len(x_test.index))"
   ]
  },
  {
   "attachments": {},
   "cell_type": "markdown",
   "metadata": {},
   "source": [
    "<h1> Model Building </h1>"
   ]
  },
  {
   "cell_type": "code",
   "execution_count": 13,
   "metadata": {},
   "outputs": [
    {
     "name": "stdout",
     "output_type": "stream",
     "text": [
      "GridSearchCV Best Params:  {'knn__n_neighbors': 18, 'pca__n_components': 15}\n",
      "GridSearchCV Best Score 0.5798072460078225\n"
     ]
    }
   ],
   "source": [
    "from sklearn.preprocessing import StandardScaler\n",
    "from sklearn.decomposition import PCA \n",
    "from sklearn.neighbors import KNeighborsClassifier\n",
    "from sklearn.pipeline import Pipeline\n",
    "from sklearn.model_selection import GridSearchCV\n",
    "\n",
    "param_grid = {\n",
    "    'pca__n_components': list(range(5, 16)),\n",
    "    'knn__n_neighbors': list(range(1, 25))\n",
    "}\n",
    "\n",
    "\n",
    "knn_pipe = Pipeline(steps=[('scaler', StandardScaler()), ('pca', PCA()), ('knn', KNeighborsClassifier())])\n",
    "\n",
    "knn_gscv = GridSearchCV(estimator=knn_pipe, param_grid=param_grid, scoring='accuracy', cv=5)\n",
    "\n",
    "knn_gscv.fit(features, labels)\n",
    "\n",
    "print(\"GridSearchCV Best Params: \", knn_gscv.best_params_)\n",
    "print(\"GridSearchCV Best Score\", knn_gscv.best_score_)"
   ]
  },
  {
   "cell_type": "code",
   "execution_count": 14,
   "metadata": {},
   "outputs": [
    {
     "name": "stdout",
     "output_type": "stream",
     "text": [
      "0.14737579928744093\n"
     ]
    }
   ],
   "source": [
    "from sklearn.cluster import KMeans\n",
    "from sklearn.metrics import silhouette_score\n",
    "from sklearn.manifold import MDS\n",
    "\n",
    "kmeans = KMeans(n_clusters=15)\n",
    "kpred = kmeans.fit_predict(music_data_pca)\n",
    "sil_score = silhouette_score(music_data_pca, kpred, metric='euclidean')\n",
    "\n",
    "print (sil_score)\n"
   ]
  },
  {
   "cell_type": "code",
   "execution_count": 33,
   "metadata": {},
   "outputs": [
    {
     "name": "stdout",
     "output_type": "stream",
     "text": [
      "['techno', 'psytrance', 'techhouse', 'Dark Trap', 'dnb', 'Dark Trap', 'hardstyle', 'Dark Trap', 'Dark Trap', 'Underground Rap', 'Underground Rap', 'trap', 'Underground Rap', 'techno', 'Underground Rap']\n",
      "[8, 11, 8, 0, 13, 0, 14, 0, 0, 1, 1, 11, 1, 8, 1]\n",
      "[0.8036170210208877, 0.8736329172695759, 0.7986491838787506, 0.9001003391071501, 0.861547269298355, 0.8652444444444445, 0.8214397678902673, 0.8316127539451155, 0.8552614819303616, 0.8215896168260073, 0.7861901938905292, 0.7708115702479339, 0.7971815029051406, 0.7514789164712238, 0.7189760500654754]\n"
     ]
    }
   ],
   "source": [
    "import numpy as np\n",
    "from math import e\n",
    "import pandas as pd   \n",
    "\n",
    "\"\"\" Usage: pandas_entropy(df['column1']) \"\"\"\n",
    "\n",
    "# Based on StackOverflow post: https://stackoverflow.com/questions/49685591/how-to-find-the-entropy-of-each-column-of-data-set-by-python\n",
    "def pandas_gini(column, base=None):\n",
    "    vc = pd.Series(column).value_counts(sort=False)\n",
    "    base = e if base is None else base\n",
    "    return 1 - (np.square((vc / len(column)))).sum()\n",
    "\n",
    "entropies = []\n",
    "cluster_labels = []\n",
    "cluster_names = []\n",
    "\n",
    "for k in range(0, 15):\n",
    "\n",
    "    filtered_cluster = labels[kpred == k]\n",
    "\n",
    "    lbl = filtered_cluster.value_counts(sort=False).argmax()\n",
    "    genre_cf = filtered_cluster.mode()\n",
    "    cluster_labels.append(lbl)\n",
    "    cluster_names.append(genre_cf.values[0])\n",
    "\n",
    "    entropies.append(pandas_gini(filtered_cluster, base=e))\n",
    "\n",
    "print(cluster_names)\n",
    "print(cluster_labels)\n",
    "print (entropies)"
   ]
  },
  {
   "cell_type": "code",
   "execution_count": 18,
   "metadata": {},
   "outputs": [
    {
     "name": "stdout",
     "output_type": "stream",
     "text": [
      "             0         1         2         3         4         5         6   \\\n",
      "15     2.925831 -1.776284  1.877886 -0.418875 -0.154441  0.247078 -0.145090   \n",
      "28     1.166840 -2.026947  1.844830 -2.490360  0.283055  0.116299  0.080003   \n",
      "41     0.719262 -1.341728  2.655935  0.709740 -0.990527  0.176184 -0.115030   \n",
      "43     1.044596 -1.387287  1.038922 -1.874892 -0.234662  0.149084 -0.037226   \n",
      "60     0.159353 -1.303876  2.883427  1.809596 -0.799714 -0.107919 -0.071715   \n",
      "...         ...       ...       ...       ...       ...       ...       ...   \n",
      "42182 -0.707537 -1.318894  2.395927 -0.045860 -0.344960  0.258812 -0.078825   \n",
      "42194 -0.710954 -1.036943  2.077517  1.179472  0.793457  0.233690 -0.078903   \n",
      "42248 -0.286140 -1.052024  2.270314  1.236574  0.042827  0.212166 -0.114587   \n",
      "42294 -0.527956 -1.321609  2.436983 -0.804718 -1.069988  0.265466 -0.101945   \n",
      "42296 -0.227345 -0.969016  1.899997  1.418781  0.491445  0.264053 -0.172543   \n",
      "\n",
      "             7         8         9         10        11        12  \n",
      "15     1.529499  1.360145 -0.724401  2.807107  1.438492  0.763904  \n",
      "28     2.278365  0.206319  0.941733 -0.365523  0.192422  0.398404  \n",
      "41     0.864758  2.047428 -0.894908  2.051727  1.394803  0.957440  \n",
      "43     0.531585 -0.682286  0.074374  0.818778  0.690003 -0.061119  \n",
      "60    -1.355056  0.700926  0.639061  1.419100  0.852755  1.093490  \n",
      "...         ...       ...       ...       ...       ...       ...  \n",
      "42182  0.942457 -0.265427  1.770362  0.521584  0.652634 -0.401094  \n",
      "42194  0.808274  0.421429 -0.042364  1.821782  1.166038 -0.007909  \n",
      "42248 -0.521350 -0.333182  0.120141  1.939947  1.398448  0.863633  \n",
      "42294  0.471335 -0.225577 -0.207774  0.735736  0.776196  0.028595  \n",
      "42296  0.604753  0.017343 -0.264086  2.071344  0.722842 -0.156429  \n",
      "\n",
      "[2428 rows x 13 columns]\n",
      "             0         1         2         3         4         5         6   \\\n",
      "75     0.524619 -0.843116  0.802145  0.840464  0.427810 -0.030762 -0.110792   \n",
      "81    -0.954643 -0.518820  0.399248 -0.323663 -0.036296  0.078637 -0.073246   \n",
      "82    -0.402857 -1.294585  1.766922  0.397551  1.169578  0.153889 -0.125882   \n",
      "86    -0.478013 -0.476416  0.440895  1.226750  0.831614 -0.008477 -0.149231   \n",
      "97    -0.137836 -0.262894 -0.021046  0.394204  0.027782  0.138986 -0.084607   \n",
      "...         ...       ...       ...       ...       ...       ...       ...   \n",
      "42297 -0.510928 -0.367019  1.251658  2.137632  0.038017  0.165453 -0.169172   \n",
      "42298 -0.888035 -0.781234  1.884328  1.020520 -0.258949  0.394492 -0.214460   \n",
      "42299 -1.318588 -0.516616  1.422213  1.021812 -0.362648  0.098759 -0.100988   \n",
      "42301 -0.007094 -0.242048  0.195849  0.458450 -0.769741  0.101837 -0.095738   \n",
      "42303 -1.078697 -0.406343  0.521454  0.706464  0.679946 -0.188466  0.106350   \n",
      "\n",
      "             7         8         9         10        11        12  \n",
      "75    -0.429458 -1.060010  0.246617  0.307054 -0.143388 -0.678954  \n",
      "81    -0.955466 -1.687549  1.091843  0.745455  0.284199 -1.375002  \n",
      "82     0.378509 -1.790294 -0.229621  0.573030 -0.156532 -0.818617  \n",
      "86    -0.676597 -1.454675 -0.725089  0.794971 -0.720783 -1.001157  \n",
      "97    -0.363144 -0.057854  0.663349  2.372651  0.357910  0.075807  \n",
      "...         ...       ...       ...       ...       ...       ...  \n",
      "42297 -0.035177 -0.833544 -0.335708 -0.450018  0.175044  0.099019  \n",
      "42298  0.996301 -0.555742  0.534529  1.102355  0.027823 -0.171102  \n",
      "42299 -0.916900 -1.144130  0.534215  0.113348  0.216606 -0.305452  \n",
      "42301 -0.402706 -0.886257  1.584720 -0.227122 -0.658517  0.712187  \n",
      "42303 -1.234086 -0.560301  0.519201 -0.468399  0.188763  0.481514  \n",
      "\n",
      "[5200 rows x 13 columns]\n",
      "             0         1         2         3         4         5         6   \\\n",
      "2      0.306006 -1.222206  1.451855  0.211426 -1.280653 -0.469955 -0.084239   \n",
      "8      1.117836 -1.426576  1.443312 -0.295236 -1.593887 -0.634874  0.013396   \n",
      "9      1.600319 -1.216811  0.837780  0.368090  0.329094 -0.224786 -0.032659   \n",
      "19     1.419987 -0.886472  0.248890  0.456012 -0.781998 -0.654894 -0.017031   \n",
      "39     1.341696 -0.791878  0.411476  2.182472  0.331240 -0.623920 -0.032027   \n",
      "...         ...       ...       ...       ...       ...       ...       ...   \n",
      "39176  0.172285 -1.451469  1.369533 -0.316965  1.192364 -0.486235  0.203191   \n",
      "39210  0.131321  0.002050 -1.058003 -0.065184  0.093773 -0.313699  0.104399   \n",
      "39238 -0.024285 -0.881132  0.365811  0.554723  1.555045 -0.375312  0.147143   \n",
      "39253  0.586250  0.333186 -2.049839 -0.141004  0.025141 -0.411285  0.232655   \n",
      "39364  1.034167 -0.058731 -0.671953  1.682234  0.932872 -0.146460  0.050154   \n",
      "\n",
      "             7         8         9         10        11        12  \n",
      "2     -0.510388  1.230319 -0.523915  0.119086 -2.076310 -1.815093  \n",
      "8     -1.983744  1.281449  0.106217  0.563192 -0.743885 -1.399026  \n",
      "9      1.805783  2.458830 -1.122020  0.801007 -0.983870 -0.457830  \n",
      "19    -1.449599  1.243365 -0.951621  0.094610 -1.760754 -1.236454  \n",
      "39    -1.071335  1.460037 -0.067574  0.539714 -1.798711 -0.827556  \n",
      "...         ...       ...       ...       ...       ...       ...  \n",
      "39176 -0.061151  0.863895 -1.333006 -0.987142 -0.683730  0.386816  \n",
      "39210 -0.098646  1.965120 -0.911377  0.596902 -0.583506 -0.555420  \n",
      "39238  0.241525  1.096551  0.471706  0.195636 -0.515979 -0.728414  \n",
      "39253 -0.676570  1.552798  2.418306 -0.478245 -0.587699  0.521092  \n",
      "39364  0.229447  1.684581  0.154795  0.717056  1.192968 -0.094725  \n",
      "\n",
      "[3763 rows x 13 columns]\n",
      "             0         1         2         3         4         5         6   \\\n",
      "3      1.414452  5.109337  4.217972 -1.124767 -1.379046 -3.545494 -1.281453   \n",
      "7      2.055141  5.182534  3.045486 -1.486765  0.940107 -3.387861 -1.257801   \n",
      "40     1.740248  4.144101  5.343165 -0.637462  1.129108 -3.750600 -1.103967   \n",
      "42     2.967531  5.106814  3.884668 -0.992235 -1.460663 -3.289029 -1.396805   \n",
      "45     1.768574  6.104229  1.982781 -1.772617 -0.889417 -2.981300 -1.467852   \n",
      "...         ...       ...       ...       ...       ...       ...       ...   \n",
      "42192  0.063933  5.596618  3.588281  0.080438  1.449115 -3.498985 -1.072217   \n",
      "42208  0.571734  5.748705  3.243386  0.828916  1.377740 -3.376806 -1.316280   \n",
      "42239 -0.013043  5.188888  4.499204  0.425844  1.627946 -3.342775 -1.225825   \n",
      "42254  0.851546  5.160583  3.973289 -0.315007  1.030818 -3.322244 -1.245251   \n",
      "42284  0.142877  5.442973  3.311120 -2.386566 -0.475766 -3.304930 -1.214402   \n",
      "\n",
      "             7         8         9         10        11        12  \n",
      "3     -1.254717 -0.156723  0.198900  0.245204 -0.788749 -0.017897  \n",
      "7     -0.047557 -0.811861 -1.295270  0.999048 -0.367736 -0.143057  \n",
      "40     0.365796  2.247388 -1.319802  1.721037  0.389225 -0.499436  \n",
      "42    -0.366755  0.340537  0.170918  1.642786  0.653448 -0.283502  \n",
      "45    -0.098634 -2.065575 -0.314074  0.979570 -0.955064  0.003715  \n",
      "...         ...       ...       ...       ...       ...       ...  \n",
      "42192 -0.905113 -0.755938  0.440466 -0.790398  0.901940  0.401848  \n",
      "42208 -0.428320 -1.142933 -0.625386  0.529674 -0.911008 -0.366429  \n",
      "42239 -0.025782 -1.060754 -0.286944  0.059378 -0.250841  0.171221  \n",
      "42254  0.286450 -0.656502  0.825660  0.517633 -0.003413 -0.408307  \n",
      "42284  0.208426 -0.516576  0.461588  0.172739 -0.544859 -0.928902  \n",
      "\n",
      "[1219 rows x 13 columns]\n",
      "             0         1         2         3         4         5         6   \\\n",
      "6      0.658292 -0.487964  0.167033 -0.014435 -0.461877  0.166957 -0.246853   \n",
      "11     0.662634 -0.943855  0.817456 -1.322718 -0.896389  0.290417 -0.164205   \n",
      "12     0.277553 -0.669586  0.239977 -0.320077 -0.118626 -0.009213 -0.127486   \n",
      "14     0.464880 -0.860958  0.744591 -0.899226 -0.418310  0.421171 -0.228471   \n",
      "20     0.274165  0.029184 -0.437592 -0.838893 -1.737001  0.397837 -0.257490   \n",
      "...         ...       ...       ...       ...       ...       ...       ...   \n",
      "41622  1.137480 -0.739904  0.139483 -0.934075 -0.845748 -0.136037  0.021269   \n",
      "41628  0.079794 -0.030919 -0.513130 -0.316264 -0.901663 -0.081101 -0.014246   \n",
      "41714  0.528226 -1.012634  0.716042 -1.209773 -0.541931 -0.194666  0.085857   \n",
      "41845  0.253828 -0.521781  0.373979 -0.871927 -1.506301  0.111981 -0.114283   \n",
      "41931  0.906796 -0.201134 -0.153704 -0.429442 -1.562327  0.024768 -0.035801   \n",
      "\n",
      "             7         8         9         10        11        12  \n",
      "6     -0.323180 -1.435406 -1.821753  0.981267 -0.692166 -0.677953  \n",
      "11     0.041549 -1.363582 -0.306102  0.955031  0.828312 -0.508321  \n",
      "12     0.479476 -0.266954 -1.265565  0.389254 -1.196752 -1.126246  \n",
      "14     2.218962 -0.665304 -0.586638  0.392544 -1.062301 -0.571360  \n",
      "20    -0.164594 -1.896074 -0.187559  0.093081 -0.525534 -0.173402  \n",
      "...         ...       ...       ...       ...       ...       ...  \n",
      "41622 -0.561628 -0.040436  0.193533 -0.606573  0.853256 -0.456627  \n",
      "41628 -0.962458 -0.237166 -0.519144 -0.233225 -0.552190  0.818522  \n",
      "41714 -0.645377 -0.587000  0.207312 -1.508720  0.410882 -0.023890  \n",
      "41845  0.392963 -0.316836  0.403068 -0.584260 -0.971811 -0.318798  \n",
      "41931 -0.628504 -0.378140  0.310905 -1.196753  0.142342  1.228788  \n",
      "\n",
      "[3282 rows x 13 columns]\n",
      "             0         1         2         3         4         5         6   \\\n",
      "1417  -0.361539  0.654850 -1.544742  0.498024  0.240576  0.389356 -0.120181   \n",
      "2422  -0.466652  0.771025 -1.843826  1.233155  0.890331  0.120129 -0.066139   \n",
      "2464  -1.193598  0.980848 -1.336473  1.791806 -0.010522  0.211848 -0.117010   \n",
      "2480  -1.252318  0.461034 -1.165911  0.685118  0.965631  0.202474 -0.081769   \n",
      "2489  -0.859345  0.916732 -1.587647  0.414194 -0.710293  0.376793 -0.117895   \n",
      "...         ...       ...       ...       ...       ...       ...       ...   \n",
      "42093 -1.306987  0.431469 -0.762119  0.521244 -0.550229  0.016683 -0.015057   \n",
      "42171 -1.029734 -0.026506 -0.309450  1.092703  1.154695 -0.087676  0.044754   \n",
      "42232 -1.511889  0.449619 -0.745483  1.095959  0.403839 -0.095867  0.086200   \n",
      "42252 -1.799084  0.606877 -1.133496  1.192550  1.242682 -0.033592  0.119581   \n",
      "42295 -0.949502  0.241985 -0.883589  0.528401  0.370522 -0.138511  0.079186   \n",
      "\n",
      "             7         8         9         10        11        12  \n",
      "1417   0.414115 -0.496436  0.706143  1.440687  0.682959 -0.205843  \n",
      "2422  -0.151855 -0.756751 -0.404991  0.253417  0.006428 -0.504031  \n",
      "2464  -0.097331 -0.077524 -0.176121  0.700372 -0.689121  0.550793  \n",
      "2480  -0.180409 -1.454269 -0.397769  0.591952  0.009327 -0.927678  \n",
      "2489  -0.348070 -1.286844  1.182649  0.184433  0.535044  0.078578  \n",
      "...         ...       ...       ...       ...       ...       ...  \n",
      "42093 -1.110637 -0.278844  1.157151  0.582092 -0.053755 -0.415111  \n",
      "42171 -0.203569  0.345930 -0.070515  0.594200  0.499601 -0.926438  \n",
      "42232 -0.726582  0.386700  0.520770 -0.013159  0.084072  0.260521  \n",
      "42252  0.461749  0.947637  0.025191  0.007094 -0.316846  0.239363  \n",
      "42295 -0.964226 -0.060444  0.781054  0.183548 -0.239303  0.042513  \n",
      "\n",
      "[3583 rows x 13 columns]\n",
      "             0         1         2         3         4         5         6   \\\n",
      "21     3.040009  4.442318  2.793968 -3.272665  3.356866  7.062407 -1.202743   \n",
      "35     3.233839  5.315593  1.931054 -1.157481  3.078630  7.156268 -1.336022   \n",
      "64     4.088502  4.885432  3.120701 -0.821654  0.200682  6.564513 -1.305801   \n",
      "94     2.345485  5.092081  4.283747 -0.449120  0.797190  7.391892 -1.449308   \n",
      "208    0.261115  4.609000  5.627833 -1.064199  1.837144  7.624588 -1.470243   \n",
      "...         ...       ...       ...       ...       ...       ...       ...   \n",
      "41000  0.079134  5.088409  4.987911 -1.003736  0.583451  7.591843 -1.505166   \n",
      "41344  0.883833  4.944360  4.087421 -0.379841  2.397719  7.039090 -1.329844   \n",
      "42046  1.600829  5.126911  3.593282 -1.264751  1.557418  7.000988 -1.264458   \n",
      "42177  1.290561  4.883281  3.951035 -1.417479  1.776305  7.084301 -1.329710   \n",
      "42242  1.000571  4.476539  5.199755 -0.631463  2.318995  7.205118 -1.276010   \n",
      "\n",
      "             7         8         9         10        11        12  \n",
      "21    -0.886808  0.459098 -0.556636 -0.962839 -1.114115 -0.412191  \n",
      "35    -1.879078 -0.328165  0.621432 -0.981622 -0.870665 -0.161977  \n",
      "64    -3.141565  2.612484  0.343181 -2.160785 -0.668755 -1.916403  \n",
      "94    -1.647357  2.006069 -0.985738  0.155704  1.494610 -0.461927  \n",
      "208   -0.137751 -0.145275 -1.585617 -1.780358 -1.261830  0.388716  \n",
      "...         ...       ...       ...       ...       ...       ...  \n",
      "41000 -0.314287  1.397735 -0.627303 -0.531970 -1.041482 -0.618259  \n",
      "41344 -2.754886  0.193216  0.266345 -0.653616 -1.400847 -0.347871  \n",
      "42046 -2.563954  1.064247 -0.824518 -1.651207 -1.105828  0.392048  \n",
      "42177 -1.658639  1.011131 -0.988137 -1.445736 -1.218958 -1.043766  \n",
      "42242 -1.478574  1.070800  1.055204 -0.862370 -0.723212  0.786948  \n",
      "\n",
      "[509 rows x 13 columns]\n",
      "             0         1         2         3         4         5         6   \\\n",
      "0      1.890639 -1.170826  0.265745 -1.398079 -0.356921 -0.146779  0.007675   \n",
      "4      2.451879 -0.931476 -0.228673 -1.157767 -0.391408 -0.080505 -0.017319   \n",
      "5      2.011331 -0.164895 -0.779829 -0.782841 -1.725311  0.321820 -0.231764   \n",
      "29     2.401137 -0.478626 -1.178551 -1.785646 -0.551410  0.383816 -0.185814   \n",
      "32     2.432617  0.121351 -2.263743  0.538886  1.777732  0.088723 -0.040015   \n",
      "...         ...       ...       ...       ...       ...       ...       ...   \n",
      "35790  1.722645 -0.558525  0.012992  0.201585  0.337829  0.309772 -0.164137   \n",
      "36072  1.170246 -0.997053 -0.093523  0.094452  2.520049 -0.072346  0.098564   \n",
      "36208  1.920211 -1.068232  0.310299 -1.731473 -0.587263  0.360453 -0.133822   \n",
      "36236  1.415465 -0.114494 -1.141638  0.086619 -0.459029  0.123894 -0.216377   \n",
      "37759  1.757739 -0.525721 -0.358776 -0.912043 -1.397657  0.014605 -0.062921   \n",
      "\n",
      "             7         8         9         10        11        12  \n",
      "0     -0.500516  0.373634 -0.073232  1.675893  0.349299  0.322479  \n",
      "4      0.145890  0.039622  0.075877  0.109019  0.198013  0.304116  \n",
      "5      0.298905  0.193004  0.117790  2.330046 -0.129399  0.878536  \n",
      "29     2.020496  0.068113  0.368908  1.842944 -0.739197  0.239299  \n",
      "32     0.803590 -0.141038 -0.073121  1.463651 -0.470586  1.416132  \n",
      "...         ...       ...       ...       ...       ...       ...  \n",
      "35790  1.411316  0.997052 -1.734683  2.490618  1.195304  0.011618  \n",
      "36072  1.497124  0.748137  0.140310  1.268269  0.116447  0.247452  \n",
      "36208  1.576327  1.050493  0.310267  3.443831  0.934514  0.082527  \n",
      "36236 -0.261902 -0.557922  1.257550  2.123449 -0.316356 -1.738602  \n",
      "37759  0.494862  1.740484  0.634326  1.685457  0.613878 -0.591889  \n",
      "\n",
      "[2454 rows x 13 columns]\n",
      "             0         1         2         3         4         5          6   \\\n",
      "47     3.430325  4.957288  3.767492  0.510834 -2.806014  0.322909  15.932337   \n",
      "54     2.672981  6.455421  2.212879  2.396221 -2.036373  0.963389  15.764904   \n",
      "101    3.242512  5.061784  3.652332  1.041469 -1.290335  0.719722  15.898173   \n",
      "507    2.813870  6.065704  2.677649  2.502117 -2.126577  0.604278  15.855639   \n",
      "531    3.514694  6.156916  1.047032  2.178775  0.073294  0.402910  15.934573   \n",
      "...         ...       ...       ...       ...       ...       ...        ...   \n",
      "40081  1.653733  4.770429  3.699460 -0.259365 -0.154589  0.267899  16.239611   \n",
      "40127  0.762427  5.129519  4.752477  1.374772 -1.088597  0.905687  15.900219   \n",
      "40696  0.762427  5.129519  4.752477  1.374772 -1.088597  0.905687  15.900219   \n",
      "41011  0.919861  4.884573  4.676343  0.571355 -1.054907  0.732739  15.978404   \n",
      "41869  1.129340  5.584554  3.411377  1.382918 -0.798658  0.649591  15.973487   \n",
      "\n",
      "             7         8         9         10        11        12  \n",
      "47    -0.129900  0.278888 -0.086255  1.548117 -2.168672 -0.303398  \n",
      "54     0.135670 -2.418814  0.372601  0.087905  0.339445 -0.749940  \n",
      "101    0.256062 -1.508780  0.943852  1.803970  0.884641 -1.260939  \n",
      "507   -0.339204 -1.114870  0.634833  0.555928 -1.058240 -0.130219  \n",
      "531    0.480754 -1.036675 -0.621915  1.099523 -2.838367 -0.082764  \n",
      "...         ...       ...       ...       ...       ...       ...  \n",
      "40081 -0.685614 -2.164939  1.476540 -0.567141 -0.302567 -0.393804  \n",
      "40127  1.804497 -1.547093  0.706697  0.484890 -1.384106 -0.223419  \n",
      "40696  1.804497 -1.547093  0.706697  0.484890 -1.384106 -0.223419  \n",
      "41011  0.682804 -2.235925  1.097162  0.417721 -1.146666 -0.275816  \n",
      "41869  0.246839 -1.728164  0.338835  0.799288 -1.268355 -0.289010  \n",
      "\n",
      "[150 rows x 13 columns]\n",
      "             0         1         2         3         4         5         6   \\\n",
      "56     0.124847 -0.539542  0.813094 -0.595737 -1.506024  0.207309 -0.123709   \n",
      "61    -0.617496 -0.303493  0.380637  0.180413 -0.478168 -0.052128 -0.064322   \n",
      "176    0.401267 -1.323326  1.647177  0.160463  0.011259 -0.327888 -0.001020   \n",
      "205   -0.726142  0.201269  0.262766  1.045628 -1.672726  0.145047 -0.176794   \n",
      "206   -0.256512 -0.158884  0.335799 -0.215570 -0.957389  0.412786 -0.211142   \n",
      "...         ...       ...       ...       ...       ...       ...       ...   \n",
      "42286 -1.223839 -0.043147 -0.198570 -0.301981 -0.251291 -0.115933  0.065019   \n",
      "42292 -1.588144 -0.360964  1.364764  0.445507 -0.846160  0.256953 -0.144473   \n",
      "42300 -0.126135 -0.315487  0.156604 -0.302926 -0.881209 -0.073901 -0.019217   \n",
      "42302 -1.154446 -0.413079  1.591735  0.865570 -1.137872  0.247286 -0.191715   \n",
      "42304 -0.796340 -0.530076  1.234754  0.545207 -0.632433  0.177055 -0.168909   \n",
      "\n",
      "             7         8         9         10        11        12  \n",
      "56    -0.629482 -0.628536 -0.218322  0.780816  0.357242  0.877305  \n",
      "61    -0.920910 -0.586798 -1.531866 -0.010030 -0.491277  0.017895  \n",
      "176   -1.240619  0.065148 -1.655994  0.458102 -0.069912 -0.381244  \n",
      "205    0.862376  1.029124 -0.899033 -0.421673 -1.741996  0.101475  \n",
      "206   -0.296738 -1.692728 -1.249235  0.574112  0.527440  0.484750  \n",
      "...         ...       ...       ...       ...       ...       ...  \n",
      "42286 -0.859761  0.449620 -0.954918  0.349308  0.472020 -0.590045  \n",
      "42292  0.352642 -0.184418 -1.409145  0.199196  0.023544 -0.276354  \n",
      "42300 -0.806729 -0.360297 -0.518230 -0.633700 -0.329300  0.154222  \n",
      "42302  0.328657 -0.333127 -1.441148 -0.403999 -0.332997 -0.134711  \n",
      "42304  0.662578 -0.254770 -1.530827 -0.152984 -0.919861 -0.059523  \n",
      "\n",
      "[4654 rows x 13 columns]\n",
      "             0         1         2         3         4         5         6   \\\n",
      "10     2.382722  0.009685 -1.307337  1.071018 -1.206016 -0.306016 -0.214821   \n",
      "13     1.885942 -0.167528 -0.881069  1.454372  0.816848  0.097171 -0.206415   \n",
      "16     2.388973  0.658459 -2.093383  0.757850 -2.745577 -0.162345 -0.224524   \n",
      "17     1.243585  0.213995 -1.732547  0.072275  0.465207  0.071546 -0.124079   \n",
      "23     1.503044 -0.385297 -0.912396  0.378654  1.480950  0.166121 -0.141223   \n",
      "...         ...       ...       ...       ...       ...       ...       ...   \n",
      "41410  0.130942  0.122213 -0.102397  0.997338 -0.999480  0.138175 -0.208744   \n",
      "41613  0.354807  0.479466 -0.178247  2.037688 -1.107260  0.179745 -0.203662   \n",
      "41643  0.400553 -0.018858 -0.313370  1.317204 -0.224725  0.021288 -0.134953   \n",
      "41738 -0.079893 -0.108406 -0.014688  0.896813 -0.149511  0.155386 -0.095708   \n",
      "41829 -0.203134  0.478504  0.038740  1.893573 -1.762058  0.402342 -0.309748   \n",
      "\n",
      "             7         8         9         10        11        12  \n",
      "10    -0.587647  0.807425 -1.273169  0.274241 -1.960053 -1.125269  \n",
      "13     0.123673 -0.679141 -0.513717  1.436571 -0.498680  0.097459  \n",
      "16    -0.607536  1.524374  0.223929  0.504709 -2.058550  0.158052  \n",
      "17     0.298021 -0.802587 -1.901560 -0.080364 -0.611366 -0.299186  \n",
      "23     0.360424 -1.407648 -0.310959  1.528663 -0.407590  0.101176  \n",
      "...         ...       ...       ...       ...       ...       ...  \n",
      "41410 -0.367474 -0.322042 -1.734615  0.287817 -0.733734  0.268503  \n",
      "41613 -0.537155 -0.259815 -2.127456 -1.015317  0.734017  0.411699  \n",
      "41643 -0.673106 -0.906437  0.475001 -0.278158  0.061036 -0.571126  \n",
      "41738  0.739933 -0.333134  1.111139 -0.532573 -1.078043  0.771346  \n",
      "41829 -0.336284 -0.993303  0.872456  0.234435 -0.848121  1.038837  \n",
      "\n",
      "[2706 rows x 13 columns]\n",
      "             0         1         2         3         4         5         6   \\\n",
      "335   -0.809810  0.308135 -0.867390 -1.013702 -1.245314  0.196596 -0.041210   \n",
      "2432  -1.956055  0.487821 -0.447166  0.015210 -0.495721  0.186475 -0.021783   \n",
      "2454  -1.666980  1.236626 -1.097188  0.010391 -2.353404  0.602227 -0.182941   \n",
      "2468  -0.600717  0.644078 -1.010302 -0.167267 -2.056298  0.164810 -0.111656   \n",
      "2486  -0.884832  0.590793 -1.288759 -0.844978 -1.488947  0.161028 -0.037291   \n",
      "...         ...       ...       ...       ...       ...       ...       ...   \n",
      "42127 -1.547787 -0.266783 -0.352095 -0.842311  1.026238 -0.437543  0.333120   \n",
      "42155 -1.098617  0.744901 -0.696814  0.947006 -0.962048  0.152501 -0.060244   \n",
      "42237 -0.643128  0.124145 -0.776282 -0.159020  0.155755 -0.179559  0.152337   \n",
      "42244 -0.228548  0.216407 -1.175218 -0.415682 -0.363091 -0.147393  0.057570   \n",
      "42285 -1.711323  0.475635 -0.885341 -0.509771 -0.481117  0.038626  0.102288   \n",
      "\n",
      "             7         8         9         10        11        12  \n",
      "335   -0.436488 -0.540326 -0.057461  0.070969  0.810726 -0.618204  \n",
      "2432  -0.620909 -0.537081 -1.515081  0.164070  0.189785  0.525709  \n",
      "2454  -0.186777 -0.714858 -0.237889  0.185020  0.286452  1.487342  \n",
      "2468  -0.712566 -0.064264 -0.076431  0.024230 -0.256110  0.128361  \n",
      "2486  -0.333636 -0.125989  0.074874  0.128742 -0.598618  0.598861  \n",
      "...         ...       ...       ...       ...       ...       ...  \n",
      "42127 -1.176137  0.749425 -1.018411 -0.858098  0.654346  0.091018  \n",
      "42155 -0.519169  0.492599 -1.536391  0.210080 -0.095082  1.225726  \n",
      "42237 -0.558843  0.772852 -0.955325 -0.793418  1.495102 -0.682115  \n",
      "42244 -0.749534  0.371251 -0.725846  0.055088 -0.382567  0.309405  \n",
      "42285 -0.569045  1.397730 -0.674724  1.619481  1.243900 -0.053135  \n",
      "\n",
      "[4321 rows x 13 columns]\n",
      "             0         1         2         3         4         5         6   \\\n",
      "24    -0.644259 -1.105041  1.723454  0.879694  1.395617  0.435437 -0.254995   \n",
      "132   -0.100167 -0.885940  1.269340 -1.108136 -1.364552  0.553753 -0.303263   \n",
      "152   -0.263359 -0.658877  0.563336 -1.452985 -0.965012  0.438813 -0.194500   \n",
      "330   -0.154343 -0.837581  1.249104  1.060039  0.126922  0.102481 -0.142169   \n",
      "462    0.953688 -1.252648  1.793708  0.071280  0.021597  0.407869 -0.157778   \n",
      "...         ...       ...       ...       ...       ...       ...       ...   \n",
      "42219 -1.126742 -0.482366  1.259545  0.389808 -0.967946  0.426785 -0.205502   \n",
      "42230 -1.662761 -0.433120  1.315339  1.229317  0.340747  0.308932 -0.133182   \n",
      "42233 -1.092461 -0.593129  1.803125 -0.417554 -2.111404  0.546917 -0.242596   \n",
      "42241 -1.355156 -0.501817  1.950223  1.049241 -1.369793  0.582312 -0.315380   \n",
      "42290 -1.496793 -0.479862  2.063927  1.824039 -0.489254  0.550224 -0.282887   \n",
      "\n",
      "             7         8         9         10        11        12  \n",
      "24     2.283926 -1.887142 -0.630654 -0.260793 -0.182902 -2.311054  \n",
      "132    2.274168 -1.116494  0.052402  0.094949 -1.253532 -0.862378  \n",
      "152    2.031312 -1.053946  0.210586 -0.443028 -1.174569 -0.833126  \n",
      "330    1.648978  0.213322  0.845472 -0.332113 -1.229245 -0.945593  \n",
      "462    3.897272  1.421528 -0.684657 -0.001842 -1.062528  0.969004  \n",
      "...         ...       ...       ...       ...       ...       ...  \n",
      "42219  1.716954 -0.565806  1.840447 -0.304898 -1.000553 -0.480770  \n",
      "42230  1.741313 -0.261877  0.316377 -0.431859 -0.684956 -0.671958  \n",
      "42233  1.914211 -0.272255  0.398480 -0.513853 -0.739618  0.182905  \n",
      "42241  1.631296 -1.001783  1.335033 -0.182759 -0.543446 -0.578186  \n",
      "42290  2.500837 -0.306157  0.478472 -0.554266 -1.177304 -0.035457  \n",
      "\n",
      "[2341 rows x 13 columns]\n",
      "             0         1         2         3         4         5         6   \\\n",
      "18     0.395628 -0.482427 -0.424101  0.592465  1.657026 -0.102936 -0.022593   \n",
      "74     0.353491 -0.247168 -0.606550  0.790028  1.330295  0.078996 -0.130041   \n",
      "99     0.833251 -1.361939 -0.003042 -1.726554  1.950974 -0.494612  0.272226   \n",
      "105    1.004863 -1.033469  0.226962 -0.828717  1.278939  0.052315 -0.044479   \n",
      "109    2.037323 -0.729657 -0.793782 -0.238190  1.114240 -0.246009  0.085893   \n",
      "...         ...       ...       ...       ...       ...       ...       ...   \n",
      "41873  0.378843 -0.976029  0.198135 -0.894752  0.856303 -0.364381  0.253964   \n",
      "42067  0.215233 -0.559254 -0.001973 -0.360583  0.426413 -0.330430  0.152115   \n",
      "42160 -1.010799 -0.438006 -0.055714  0.013069  1.361752 -0.321048  0.249224   \n",
      "42262 -0.070805 -0.800892  0.442644 -0.684870  0.362794 -0.244817  0.118138   \n",
      "42287 -0.723795 -0.104558 -0.295932  0.024851  0.659434 -0.118679  0.137672   \n",
      "\n",
      "             7         8         9         10        11        12  \n",
      "18    -0.442928 -1.326980 -0.439887  0.326073 -0.241365 -0.609011  \n",
      "74    -0.094632 -1.617929 -0.576549  0.635592 -0.294638 -0.983845  \n",
      "99    -0.249707 -0.033024 -0.991207 -0.584727 -0.367805  0.139699  \n",
      "105    0.791426 -0.726992 -1.843154  0.794302 -0.302668 -0.190820  \n",
      "109   -0.290225 -1.088336  1.293126 -1.437750  0.217216 -0.058265  \n",
      "...         ...       ...       ...       ...       ...       ...  \n",
      "41873 -1.108499 -0.165346  2.038862 -0.455001  0.317834  0.922229  \n",
      "42067 -0.993099 -0.109950 -1.074688 -1.150434 -0.527281  1.232184  \n",
      "42160 -0.952881  0.023798  0.818020 -0.457463  0.214889  0.637140  \n",
      "42262 -0.425373 -0.075339 -0.835887 -0.838991 -0.406961  0.491602  \n",
      "42287  0.640133  0.706293 -1.339432 -1.336788 -0.812123  1.106836  \n",
      "\n",
      "[3499 rows x 13 columns]\n",
      "             0         1         2         3         4         5         6   \\\n",
      "1      1.438705  0.440620 -1.533161  0.446423 -0.607753  0.326450 -0.259271   \n",
      "34     1.772046  0.570721 -1.938236  0.624995 -0.396176  0.261231 -0.224539   \n",
      "48     3.393240 -0.171787 -0.771426  0.908745 -1.261907 -0.250648  0.020146   \n",
      "67     3.228025  0.140781 -1.931888  0.851789 -0.065655  0.148842 -0.194107   \n",
      "89     0.997314  0.647673 -2.108079  0.423644  0.227468  0.189829 -0.126170   \n",
      "...         ...       ...       ...       ...       ...       ...       ...   \n",
      "36537  1.981307 -0.134571 -0.692417  1.945121  0.356012 -0.115489 -0.075019   \n",
      "37089 -0.582990  0.415368 -0.477141  1.909479 -0.060694 -0.196885  0.123240   \n",
      "41672  0.715193  0.409077  0.154847  2.180642 -2.072999  0.382817 -0.288965   \n",
      "41756  1.053882  0.051960 -0.421069  0.654788 -0.977830  0.136029 -0.123328   \n",
      "42174  0.238494  0.099644  0.212698  0.568409 -2.093074  0.323667 -0.217762   \n",
      "\n",
      "             7         8         9         10        11        12  \n",
      "1      0.373060 -1.186564 -1.557958 -0.334490  0.640976 -1.054325  \n",
      "34     0.419389 -1.006251 -1.643538 -0.765137  0.648892 -0.681943  \n",
      "48    -0.353341  0.612015  0.123479 -3.690766  1.710349  0.475644  \n",
      "67     0.217298 -0.880860  0.997980 -0.052896  0.828964 -0.447046  \n",
      "89     0.364044 -0.791820 -2.027339 -0.805810  1.379485 -1.695911  \n",
      "...         ...       ...       ...       ...       ...       ...  \n",
      "36537  0.706444  0.786813  0.537887 -1.149331  0.569693 -0.918435  \n",
      "37089 -1.034381  0.847793  0.722623 -1.868364  3.100817 -1.478712  \n",
      "41672 -0.814851 -1.284270  1.149049 -1.153971  1.813352  0.035243  \n",
      "41756  0.562379 -0.034185 -0.740835 -1.758475  1.043349 -0.499270  \n",
      "42174  0.512930 -0.201682 -0.154013 -1.449348  1.566891 -1.365475  \n",
      "\n",
      "[2196 rows x 13 columns]\n"
     ]
    },
    {
     "data": {
      "image/png": "[encoded data removed]",
      "text/plain": [
       "<Figure size 432x288 with 1 Axes>"
      ]
     },
     "metadata": {
      "needs_background": "light"
     },
     "output_type": "display_data"
    }
   ],
   "source": [
    "\n",
    "colors = [\"#\"+''.join([random.choice('0123456789ABCDEF') for j in range(6)]) for i in range(15)]\n",
    "\n",
    "for k in range(0, 15):\n",
    "\n",
    "    filtered_label0 = music_data_pca[kpred == k]\n",
    "    \n",
    "    color = colors[k]\n",
    "\n",
    "    mds = MDS(n_components=2)\n",
    "    mds_data = mds.fit_transform(filtered_label0)\n",
    "    plt.scatter(mds_data[:,0] , mds_data[:,1], c=color)\n",
    "    plt.show()\n",
    "\n",
    "plt.show()"
   ]
  },
  {
   "cell_type": "code",
   "execution_count": 21,
   "metadata": {},
   "outputs": [
    {
     "name": "stdout",
     "output_type": "stream",
     "text": [
      "The  average method worked best since it had the       highest CPCC of 0.9959921493441718\n"
     ]
    }
   ],
   "source": [
    "from scipy.spatial.distance import pdist\n",
    "from scipy.cluster.hierarchy import linkage, dendrogram, cophenet\n",
    "\n",
    "centers = kmeans.cluster_centers_\n",
    "\n",
    "proximity_matrix = pdist(centers)\n",
    "methods = ['single', 'complete', 'average', 'centroid', 'ward']\n",
    "cpccs = []\n",
    "# the rest of your code goes here\n",
    "\n",
    "# Compute correlation for every linkage method and get the method with highest corr\n",
    "for method in methods:\n",
    "    link_matrix = linkage(centers, method)\n",
    "    cpcc, _ = cophenet(link_matrix, proximity_matrix)\n",
    "    cpccs.append(cpcc)\n",
    "\n",
    "print (\"The \", methods[np.argmax(cpccs)], \"method worked best since it had the\\\n",
    "       highest CPCC of\", np.amax(cpccs))"
   ]
  },
  {
   "cell_type": "code",
   "execution_count": 22,
   "metadata": {},
   "outputs": [
    {
     "data": {
      "image/png": "[encoded data removed]",
      "text/plain": [
       "<Figure size 432x288 with 1 Axes>"
      ]
     },
     "metadata": {
      "needs_background": "light"
     },
     "output_type": "display_data"
    }
   ],
   "source": [
    "hier = linkage(centers, 'average')\n",
    "plt.figure()\n",
    "dn = dendrogram(hier)\n",
    "plt.show()"
   ]
  },
  {
   "cell_type": "code",
   "execution_count": 43,
   "metadata": {},
   "outputs": [
    {
     "data": {
      "image/png": "[encoded data removed]",
      "text/plain": [
       "<Figure size 1296x504 with 2 Axes>"
      ]
     },
     "metadata": {
      "needs_background": "light"
     },
     "output_type": "display_data"
    }
   ],
   "source": [
    "# Code adapted from https://scikit-learn.org/stable/auto_examples/cluster/plot_kmeans_silhouette_analysis.html\n",
    "\n",
    "from sklearn.metrics import silhouette_samples\n",
    "import matplotlib.cm as cm\n",
    "\n",
    "n_clusters = 15\n",
    "fig, (ax1, ax2) = plt.subplots(1, 2)\n",
    "fig.set_size_inches(18, 7)\n",
    "\n",
    "# The 1st subplot is the silhouette plot\n",
    "# The silhouette coefficient can range from -1, 1 but in this example all\n",
    "# lie within [-0.1, 1]\n",
    "ax1.set_xlim([-0.1, 1])\n",
    "# The (n_clusters+1)*10 is for inserting blank space between silhouette\n",
    "# plots of individual clusters, to demarcate them clearly.\n",
    "ax1.set_ylim([0, len(music_data_pca) + (n_clusters + 1) * 10])\n",
    "\n",
    "# kpred2 = KMeans(n_clusters=2).fit_predict(music_data_pca)\n",
    "\n",
    "avg_sil_score = silhouette_score(music_data_pca, kpred, metric='euclidean')\n",
    "sample_silhouette_values = silhouette_samples(music_data_pca, kpred)\n",
    "\n",
    "# avg_sil_score = silhouette_score(music_data_pca, kpred, metric='euclidean')\n",
    "# sample_silhouette_values = silhouette_samples(music_data_pca, kpred)\n",
    "\n",
    "y_lower = 10\n",
    "for i in range(n_clusters):\n",
    "        # Aggregate the silhouette scores for samples belonging to\n",
    "        # cluster i, and sort them\n",
    "    ith_cluster_silhouette_values = sample_silhouette_values[kpred == i]\n",
    "\n",
    "    ith_cluster_silhouette_values.sort()\n",
    "\n",
    "    size_cluster_i = ith_cluster_silhouette_values.shape[0]\n",
    "    y_upper = y_lower + size_cluster_i\n",
    "\n",
    "    color = cm.nipy_spectral(float(i) / n_clusters)\n",
    "    ax1.fill_betweenx(\n",
    "        np.arange(y_lower, y_upper),\n",
    "        0,\n",
    "        ith_cluster_silhouette_values,\n",
    "        facecolor=color,\n",
    "        edgecolor=color,\n",
    "        alpha=0.7,\n",
    "    )\n",
    "\n",
    "    # Label the silhouette plots with their cluster numbers at the middle\n",
    "    ax1.text(-0.05, y_lower + 0.5 * size_cluster_i, str(i))\n",
    "\n",
    "    # Compute the new y_lower for next plot\n",
    "    y_lower = y_upper + 10  # 10 for the 0 samples\n",
    "\n",
    "    ax1.set_title(\"The silhouette plot for the various clusters.\")\n",
    "    ax1.set_xlabel(\"The silhouette coefficient values\")\n",
    "    ax1.set_ylabel(\"Cluster label\")\n",
    "\n",
    "    # The vertical line for average silhouette score of all the values\n",
    "    ax1.axvline(x=avg_sil_score, color=\"red\", linestyle=\"--\")\n",
    "\n",
    "    ax1.set_yticks([])  # Clear the yaxis labels / ticks\n",
    "    ax1.set_xticks([-0.1, 0, 0.2, 0.4, 0.6, 0.8, 1])\n",
    "\n",
    "    plt.suptitle(\n",
    "        \"Silhouette analysis for KMeans clustering on sample data with n_clusters = %d\"\n",
    "        % n_clusters,\n",
    "        fontsize=14,\n",
    "        fontweight=\"bold\",\n",
    "    )\n",
    "\n",
    "plt.show()\n"
   ]
  },
  {
   "cell_type": "code",
   "execution_count": 37,
   "metadata": {},
   "outputs": [
    {
     "name": "stdout",
     "output_type": "stream",
     "text": [
      "Best K for K-Means Clustering:  0\n",
      "Highest silhouette score 0.5456889802400375\n"
     ]
    }
   ],
   "source": [
    "kmeans_sil_scores = []\n",
    "for i in range(2, 16):\n",
    "    ith_kmeans = KMeans(n_clusters=i)\n",
    "    ith_kpred = ith_kmeans.fit_predict(music_data_pca)\n",
    "    ith_sil_score = silhouette_score(music_data_pca, ith_kpred, metric='euclidean')\n",
    "    kmeans_sil_scores.append(ith_sil_score)\n",
    "\n",
    "print (\"Best K for K-Means Clustering: \", np.argmax(kmeans_sil_scores) + 2)\n",
    "print (\"Highest silhouette score\", np.amax(kmeans_sil_scores))"
   ]
  },
  {
   "cell_type": "code",
   "execution_count": 39,
   "metadata": {},
   "outputs": [
    {
     "name": "stdout",
     "output_type": "stream",
     "text": [
      "Best K for K-Means Clustering:  2\n",
      "Highest silhouette score 0.5456889802400375\n",
      "[0.5456889802400375, 0.1599691083855437, 0.14887880050306482, 0.1617228084081758, 0.16762597695691334, 0.16333103846737923, 0.1571374737187522, 0.15891323745512717, 0.1515981983665475, 0.15166960993792936, 0.1434889939926793, 0.1450585027149235, 0.14559714675892094, 0.1454648615818637]\n"
     ]
    }
   ],
   "source": [
    "print (\"Best K for K-Means Clustering: \", np.argmax(kmeans_sil_scores) + 2)\n",
    "print (\"Highest silhouette score\", np.amax(kmeans_sil_scores))\n",
    "\n",
    "print (kmeans_sil_scores)"
   ]
  },
  {
   "cell_type": "code",
   "execution_count": 40,
   "metadata": {},
   "outputs": [
    {
     "name": "stdout",
     "output_type": "stream",
     "text": [
      "[0.5456889802400375, 0.1599691083855437, 0.14887880050306482, 0.1617228084081758, 0.16762597695691334, 0.16333103846737923, 0.1571374737187522, 0.15891323745512717, 0.1515981983665475, 0.15166960993792936, 0.1434889939926793, 0.1450585027149235, 0.14559714675892094, 0.1454648615818637, 0.14780095918748867, 0.14767182108559737, 0.14278306843171165, 0.13957515418838307, 0.14127469420631633, 0.13467972649887464, 0.13599742137439697, 0.13391409260144457, 0.1352791899661597, 0.12992913964334132, 0.1298269204574592, 0.13115647262153934, 0.1287938516824271, 0.12952498826416392, 0.1299692653757187]\n"
     ]
    }
   ],
   "source": [
    "for i in range(16, 31):\n",
    "    ith_kmeans = KMeans(n_clusters=i)\n",
    "    ith_kpred = ith_kmeans.fit_predict(music_data_pca)\n",
    "    ith_sil_score = silhouette_score(music_data_pca, ith_kpred, metric='euclidean')\n",
    "    kmeans_sil_scores.append(ith_sil_score)\n",
    "\n",
    "print (kmeans_sil_scores)"
   ]
  },
  {
   "cell_type": "code",
   "execution_count": 44,
   "metadata": {},
   "outputs": [
    {
     "name": "stdout",
     "output_type": "stream",
     "text": [
      "2   0.5456889802400375\n",
      "2   0.1599691083855437\n",
      "2   0.14887880050306482\n",
      "2   0.1617228084081758\n",
      "2   0.16762597695691334\n",
      "2   0.16333103846737923\n",
      "2   0.1571374737187522\n",
      "2   0.15891323745512717\n",
      "2   0.1515981983665475\n",
      "2   0.15166960993792936\n",
      "2   0.1434889939926793\n",
      "2   0.1450585027149235\n",
      "2   0.14559714675892094\n",
      "2   0.1454648615818637\n",
      "2   0.14780095918748867\n",
      "2   0.14767182108559737\n",
      "2   0.14278306843171165\n",
      "2   0.13957515418838307\n",
      "2   0.14127469420631633\n",
      "2   0.13467972649887464\n",
      "2   0.13599742137439697\n",
      "2   0.13391409260144457\n",
      "2   0.1352791899661597\n",
      "2   0.12992913964334132\n",
      "2   0.1298269204574592\n",
      "2   0.13115647262153934\n",
      "2   0.1287938516824271\n",
      "2   0.12952498826416392\n",
      "2   0.1299692653757187\n",
      "2   0.13079195717375014\n",
      "2   0.13212951888143964\n",
      "2   0.13080227808381228\n",
      "2   0.1285911593618763\n",
      "2   0.13145771224427655\n",
      "2   0.1316027013664609\n",
      "2   0.13117633708510243\n",
      "2   0.12841075775054178\n",
      "2   0.12811478184375338\n",
      "2   0.13045712882043964\n",
      "2   0.13201604686427704\n",
      "2   0.13044960638330022\n",
      "2   0.12967512563259412\n",
      "2   0.13323617394206058\n",
      "2   0.1312389668698773\n",
      "2   0.1317836877146908\n",
      "2   0.12469561915527509\n",
      "2   0.13163037569219113\n",
      "2   0.1313923041429288\n",
      "2   0.12850531160845888\n",
      "2   0.1251592907766185\n",
      "2   0.12303923786038304\n",
      "2   0.12440862594503277\n",
      "2   0.12483969147237149\n",
      "2   0.1242173217694058\n",
      "2   0.12924034360221676\n",
      "2   0.12441455410412919\n",
      "2   0.1235832439409094\n",
      "2   0.12645851595805013\n",
      "2   0.12491197611944249\n",
      "2   0.12435468844017054\n",
      "2   0.12367190135472773\n",
      "2   0.12401748679280318\n",
      "2   0.12319818812071998\n",
      "2   0.12006104142129943\n",
      "2   0.12524686489920075\n",
      "2   0.12263487203516904\n",
      "2   0.12250244567131542\n",
      "2   0.12243305064441676\n",
      "2   0.12363811510243539\n",
      "2   0.12319284754545423\n",
      "2   0.12546325832763178\n",
      "2   0.1223288741455192\n",
      "2   0.12228456144817251\n",
      "2   0.1217547870849786\n",
      "2   0.12231093525175826\n",
      "2   0.12159985394846219\n",
      "2   0.1217490360766984\n",
      "2   0.12253564273376927\n",
      "2   0.12130209411062495\n",
      "2   0.12202286655515396\n",
      "2   0.12418335345382193\n",
      "2   0.12213606438899315\n",
      "2   0.12340952622552175\n",
      "2   0.12198209305961089\n",
      "2   0.12352861806619968\n",
      "2   0.12168563625481241\n",
      "2   0.12420766417264674\n",
      "2   0.12254809155445279\n",
      "2   0.12276935502533053\n",
      "2   0.12167769374904888\n",
      "2   0.1209249659965642\n",
      "2   0.12366740168380008\n",
      "2   0.12103149597185837\n",
      "2   0.12157255990442306\n",
      "2   0.11887112275247988\n",
      "2   0.12028568620087944\n",
      "2   0.12171547032575325\n",
      "2   0.12298398087035292\n"
     ]
    }
   ],
   "source": [
    "for i in range(32, 101):\n",
    "    ith_kmeans = KMeans(n_clusters=i)\n",
    "    ith_kpred = ith_kmeans.fit_predict(music_data_pca)\n",
    "    ith_sil_score = silhouette_score(music_data_pca, ith_kpred, metric='euclidean')\n",
    "    kmeans_sil_scores.append(ith_sil_score)\n",
    "\n",
    "for score in kmeans_sil_scores:\n",
    "    something = 2\n",
    "    print (something, \" \", score)\n",
    "    something += 1"
   ]
  },
  {
   "cell_type": "code",
   "execution_count": 45,
   "metadata": {},
   "outputs": [
    {
     "name": "stdout",
     "output_type": "stream",
     "text": [
      "Best K for K-Means Clustering:  2\n",
      "Highest silhouette score 0.5456889802400375\n"
     ]
    }
   ],
   "source": [
    "print (\"Best K for K-Means Clustering: \", np.argmax(kmeans_sil_scores) + 2)\n",
    "print (\"Highest silhouette score\", np.amax(kmeans_sil_scores))"
   ]
  },
  {
   "cell_type": "code",
   "execution_count": 55,
   "metadata": {},
   "outputs": [
    {
     "name": "stdout",
     "output_type": "stream",
     "text": [
      "      danceability  energy  key  loudness  mode  speechiness  acousticness  \\\n",
      "0            0.831   0.814    2    -7.364     1       0.4200       0.05980   \n",
      "1            0.719   0.493    8    -7.230     1       0.0794       0.40100   \n",
      "2            0.850   0.893    5    -4.783     1       0.0623       0.01380   \n",
      "3            0.476   0.781    0    -4.710     1       0.1030       0.02370   \n",
      "4            0.798   0.624    2    -7.668     1       0.2930       0.21700   \n",
      "...            ...     ...  ...       ...   ...          ...           ...   \n",
      "4573         0.639   0.821   10    -3.409     0       0.0478       0.05480   \n",
      "4574         0.367   0.769    3    -4.548     0       0.0540       0.00683   \n",
      "4575         0.587   0.530   10    -8.632     0       0.0330       0.05320   \n",
      "4576         0.713   0.358    8   -12.249     1       0.1150       0.03750   \n",
      "4577         0.734   0.628    5   -11.452     0       0.0569       0.13800   \n",
      "\n",
      "      instrumentalness  liveness  valence    tempo  duration_ms      genre  \\\n",
      "0             0.013400    0.0556   0.3890  156.985       124539  Dark Trap   \n",
      "1             0.000000    0.1180   0.1240  115.080       224427  Dark Trap   \n",
      "2             0.000004    0.3720   0.0391  218.050        98821  Dark Trap   \n",
      "3             0.000000    0.1140   0.1750  186.948       123661  Dark Trap   \n",
      "4             0.000000    0.1660   0.5910  147.988       123298  Dark Trap   \n",
      "...                ...       ...      ...      ...          ...        ...   \n",
      "4573          0.319000    0.1240   0.0631  120.021       240000  Dark Trap   \n",
      "4574          0.016900    0.1430   0.0384  167.808       208571  Dark Trap   \n",
      "4575          0.539000    0.1850   0.2610  179.944       419651  Dark Trap   \n",
      "4576          0.880000    0.5140   0.3450  180.000       214403  Dark Trap   \n",
      "4577          0.722000    0.0926   0.4760  159.996       144013  Dark Trap   \n",
      "\n",
      "      time_signature_1  time_signature_3  time_signature_4  time_signature_5  \n",
      "0                    0                 0                 1                 0  \n",
      "1                    0                 0                 1                 0  \n",
      "2                    0                 0                 1                 0  \n",
      "3                    0                 1                 0                 0  \n",
      "4                    0                 0                 1                 0  \n",
      "...                ...               ...               ...               ...  \n",
      "4573                 0                 0                 1                 0  \n",
      "4574                 0                 0                 1                 0  \n",
      "4575                 0                 0                 1                 0  \n",
      "4576                 0                 0                 1                 0  \n",
      "4577                 0                 1                 0                 0  \n",
      "\n",
      "[4578 rows x 17 columns]\n"
     ]
    }
   ],
   "source": [
    "# Adapting K-Means for Supervised Clustering Algorithm\n",
    "\n",
    "# def super_kmeans(train_set: pd.DataFrame, labels):\n",
    "\n",
    "pca_df = pd.concat([music_data_pca, labels], axis = 1)\n",
    "group_labels = df.groupby('genre')\n",
    "all_genres = set(df['genre'].tolist())\n",
    "\n",
    "# scaled_data = StandardScaler().fit_transform(features.values)\n",
    "# music_data_scaled = pd.DataFrame(scaled_data, columns=features.columns)\n",
    "\n",
    "# pca = PCA(n_components=0.95, svd_solver='full')\n",
    "# pca_data = pca.fit_transform(music_data_scaled)\n",
    "# music_data_pca = pd.DataFrame(pca_data)\n",
    "# music_data_pca.head()\n",
    "\n",
    "all_centroids = []\n",
    "\n",
    "for genre in all_genres:\n",
    "    cur_group = pca_df.get_group(genre)\n",
    "\n",
    "    # scaled_group = pd.DataFrame(StandardScaler().fit_transform(features.values))\n",
    "    # pca_group = pd.DataFrame(PCA(n_components=0.95, svd_solver='full').fit_transform(scaled_group))\n",
    "    \n",
    "    cur_kmeans = KMeans(n_clusters=5)\n",
    "    kpred_genre = cur_kmeans.fit_predict(cur_group)\n",
    "    for centroid in cur_kmeans.cluster_centers_:\n",
    "        all_centroids.append(centroid)\n",
    "    \n"
   ]
  },
  {
   "cell_type": "code",
   "execution_count": null,
   "metadata": {},
   "outputs": [],
   "source": []
  }
 ],
 "metadata": {
  "kernelspec": {
   "display_name": "Python 3",
   "language": "python",
   "name": "python3"
  },
  "language_info": {
   "codemirror_mode": {
    "name": "ipython",
    "version": 3
   },
   "file_extension": ".py",
   "mimetype": "text/x-python",
   "name": "python",
   "nbconvert_exporter": "python",
   "pygments_lexer": "ipython3",
   "version": "3.9.12"
  },
  "orig_nbformat": 4
 },
 "nbformat": 4,
 "nbformat_minor": 2
}
