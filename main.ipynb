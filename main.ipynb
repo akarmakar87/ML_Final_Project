{
 "cells": [
  {
   "attachments": {},
   "cell_type": "markdown",
   "metadata": {},
   "source": [
    "Group Members: Asha Karmakar, Akhil Iyer, Megan Sundheim, Grace Kim\n",
    "Asha -\n",
    "Grace -\n",
    "Akhil - \n",
    "Megan - "
   ]
  },
  {
   "cell_type": "code",
   "execution_count": 18,
   "metadata": {},
   "outputs": [],
   "source": [
    "import pandas as pd\n",
    "import numpy as np\n",
    "import sklearn as sk\n",
    "import matplotlib.pyplot as plt"
   ]
  },
  {
   "attachments": {},
   "cell_type": "markdown",
   "metadata": {},
   "source": [
    "<p> https://developer.spotify.com/documentation/web-api/reference/#/operations/get-several-audio-features </p>"
   ]
  },
  {
   "attachments": {},
   "cell_type": "markdown",
   "metadata": {},
   "source": [
    "<h1> Data Preprocessing & Exploration </h1>"
   ]
  },
  {
   "cell_type": "code",
   "execution_count": 3,
   "metadata": {},
   "outputs": [
    {
     "name": "stderr",
     "output_type": "stream",
     "text": [
      "C:\\Users\\ashak\\AppData\\Local\\Packages\\PythonSoftwareFoundation.Python.3.9_qbz5n2kfra8p0\\LocalCache\\local-packages\\Python39\\site-packages\\IPython\\core\\interactiveshell.py:3444: DtypeWarning: Columns (19) have mixed types.Specify dtype option on import or set low_memory=False.\n",
      "  exec(code_obj, self.user_global_ns, self.user_ns)\n"
     ]
    }
   ],
   "source": [
    "# Read in csv file\n",
    "df = pd.read_csv(\"./data/genres.csv\")"
   ]
  },
  {
   "cell_type": "code",
   "execution_count": 4,
   "metadata": {},
   "outputs": [],
   "source": [
    "# Clean data\n",
    "# Remove the following columns: type, id, uri, track_href, analysis_url, unnamed, title, song_name\n",
    "df = df[['danceability', 'energy', 'key', 'loudness', 'mode', 'speechiness', 'acousticness', 'instrumentalness', 'liveness', 'valence', 'tempo', 'duration_ms', 'time_signature', 'genre']]"
   ]
  },
  {
   "cell_type": "code",
   "execution_count": 5,
   "metadata": {},
   "outputs": [
    {
     "data": {
      "text/html": [
       "<div>\n",
       "<style scoped>\n",
       "    .dataframe tbody tr th:only-of-type {\n",
       "        vertical-align: middle;\n",
       "    }\n",
       "\n",
       "    .dataframe tbody tr th {\n",
       "        vertical-align: top;\n",
       "    }\n",
       "\n",
       "    .dataframe thead th {\n",
       "        text-align: right;\n",
       "    }\n",
       "</style>\n",
       "<table border=\"1\" class=\"dataframe\">\n",
       "  <thead>\n",
       "    <tr style=\"text-align: right;\">\n",
       "      <th></th>\n",
       "      <th>danceability</th>\n",
       "      <th>energy</th>\n",
       "      <th>key</th>\n",
       "      <th>loudness</th>\n",
       "      <th>mode</th>\n",
       "      <th>speechiness</th>\n",
       "      <th>acousticness</th>\n",
       "      <th>instrumentalness</th>\n",
       "      <th>liveness</th>\n",
       "      <th>valence</th>\n",
       "      <th>tempo</th>\n",
       "      <th>duration_ms</th>\n",
       "      <th>genre</th>\n",
       "      <th>time_signature_1</th>\n",
       "      <th>time_signature_3</th>\n",
       "      <th>time_signature_4</th>\n",
       "      <th>time_signature_5</th>\n",
       "    </tr>\n",
       "  </thead>\n",
       "  <tbody>\n",
       "    <tr>\n",
       "      <th>0</th>\n",
       "      <td>0.831</td>\n",
       "      <td>0.814</td>\n",
       "      <td>2</td>\n",
       "      <td>-7.364</td>\n",
       "      <td>1</td>\n",
       "      <td>0.4200</td>\n",
       "      <td>0.059800</td>\n",
       "      <td>0.013400</td>\n",
       "      <td>0.0556</td>\n",
       "      <td>0.3890</td>\n",
       "      <td>156.985</td>\n",
       "      <td>124539</td>\n",
       "      <td>Dark Trap</td>\n",
       "      <td>0</td>\n",
       "      <td>0</td>\n",
       "      <td>1</td>\n",
       "      <td>0</td>\n",
       "    </tr>\n",
       "    <tr>\n",
       "      <th>1</th>\n",
       "      <td>0.719</td>\n",
       "      <td>0.493</td>\n",
       "      <td>8</td>\n",
       "      <td>-7.230</td>\n",
       "      <td>1</td>\n",
       "      <td>0.0794</td>\n",
       "      <td>0.401000</td>\n",
       "      <td>0.000000</td>\n",
       "      <td>0.1180</td>\n",
       "      <td>0.1240</td>\n",
       "      <td>115.080</td>\n",
       "      <td>224427</td>\n",
       "      <td>Dark Trap</td>\n",
       "      <td>0</td>\n",
       "      <td>0</td>\n",
       "      <td>1</td>\n",
       "      <td>0</td>\n",
       "    </tr>\n",
       "    <tr>\n",
       "      <th>2</th>\n",
       "      <td>0.850</td>\n",
       "      <td>0.893</td>\n",
       "      <td>5</td>\n",
       "      <td>-4.783</td>\n",
       "      <td>1</td>\n",
       "      <td>0.0623</td>\n",
       "      <td>0.013800</td>\n",
       "      <td>0.000004</td>\n",
       "      <td>0.3720</td>\n",
       "      <td>0.0391</td>\n",
       "      <td>218.050</td>\n",
       "      <td>98821</td>\n",
       "      <td>Dark Trap</td>\n",
       "      <td>0</td>\n",
       "      <td>0</td>\n",
       "      <td>1</td>\n",
       "      <td>0</td>\n",
       "    </tr>\n",
       "    <tr>\n",
       "      <th>3</th>\n",
       "      <td>0.476</td>\n",
       "      <td>0.781</td>\n",
       "      <td>0</td>\n",
       "      <td>-4.710</td>\n",
       "      <td>1</td>\n",
       "      <td>0.1030</td>\n",
       "      <td>0.023700</td>\n",
       "      <td>0.000000</td>\n",
       "      <td>0.1140</td>\n",
       "      <td>0.1750</td>\n",
       "      <td>186.948</td>\n",
       "      <td>123661</td>\n",
       "      <td>Dark Trap</td>\n",
       "      <td>0</td>\n",
       "      <td>1</td>\n",
       "      <td>0</td>\n",
       "      <td>0</td>\n",
       "    </tr>\n",
       "    <tr>\n",
       "      <th>4</th>\n",
       "      <td>0.798</td>\n",
       "      <td>0.624</td>\n",
       "      <td>2</td>\n",
       "      <td>-7.668</td>\n",
       "      <td>1</td>\n",
       "      <td>0.2930</td>\n",
       "      <td>0.217000</td>\n",
       "      <td>0.000000</td>\n",
       "      <td>0.1660</td>\n",
       "      <td>0.5910</td>\n",
       "      <td>147.988</td>\n",
       "      <td>123298</td>\n",
       "      <td>Dark Trap</td>\n",
       "      <td>0</td>\n",
       "      <td>0</td>\n",
       "      <td>1</td>\n",
       "      <td>0</td>\n",
       "    </tr>\n",
       "    <tr>\n",
       "      <th>...</th>\n",
       "      <td>...</td>\n",
       "      <td>...</td>\n",
       "      <td>...</td>\n",
       "      <td>...</td>\n",
       "      <td>...</td>\n",
       "      <td>...</td>\n",
       "      <td>...</td>\n",
       "      <td>...</td>\n",
       "      <td>...</td>\n",
       "      <td>...</td>\n",
       "      <td>...</td>\n",
       "      <td>...</td>\n",
       "      <td>...</td>\n",
       "      <td>...</td>\n",
       "      <td>...</td>\n",
       "      <td>...</td>\n",
       "      <td>...</td>\n",
       "    </tr>\n",
       "    <tr>\n",
       "      <th>42300</th>\n",
       "      <td>0.528</td>\n",
       "      <td>0.693</td>\n",
       "      <td>4</td>\n",
       "      <td>-5.148</td>\n",
       "      <td>1</td>\n",
       "      <td>0.0304</td>\n",
       "      <td>0.031500</td>\n",
       "      <td>0.000345</td>\n",
       "      <td>0.1210</td>\n",
       "      <td>0.3940</td>\n",
       "      <td>150.013</td>\n",
       "      <td>269208</td>\n",
       "      <td>hardstyle</td>\n",
       "      <td>0</td>\n",
       "      <td>0</td>\n",
       "      <td>1</td>\n",
       "      <td>0</td>\n",
       "    </tr>\n",
       "    <tr>\n",
       "      <th>42301</th>\n",
       "      <td>0.517</td>\n",
       "      <td>0.768</td>\n",
       "      <td>0</td>\n",
       "      <td>-7.922</td>\n",
       "      <td>0</td>\n",
       "      <td>0.0479</td>\n",
       "      <td>0.022500</td>\n",
       "      <td>0.000018</td>\n",
       "      <td>0.2050</td>\n",
       "      <td>0.3830</td>\n",
       "      <td>149.928</td>\n",
       "      <td>210112</td>\n",
       "      <td>hardstyle</td>\n",
       "      <td>0</td>\n",
       "      <td>0</td>\n",
       "      <td>1</td>\n",
       "      <td>0</td>\n",
       "    </tr>\n",
       "    <tr>\n",
       "      <th>42302</th>\n",
       "      <td>0.361</td>\n",
       "      <td>0.821</td>\n",
       "      <td>8</td>\n",
       "      <td>-3.102</td>\n",
       "      <td>1</td>\n",
       "      <td>0.0505</td>\n",
       "      <td>0.026000</td>\n",
       "      <td>0.000242</td>\n",
       "      <td>0.3850</td>\n",
       "      <td>0.1240</td>\n",
       "      <td>154.935</td>\n",
       "      <td>234823</td>\n",
       "      <td>hardstyle</td>\n",
       "      <td>0</td>\n",
       "      <td>0</td>\n",
       "      <td>1</td>\n",
       "      <td>0</td>\n",
       "    </tr>\n",
       "    <tr>\n",
       "      <th>42303</th>\n",
       "      <td>0.477</td>\n",
       "      <td>0.921</td>\n",
       "      <td>6</td>\n",
       "      <td>-4.777</td>\n",
       "      <td>0</td>\n",
       "      <td>0.0392</td>\n",
       "      <td>0.000551</td>\n",
       "      <td>0.029600</td>\n",
       "      <td>0.0575</td>\n",
       "      <td>0.4880</td>\n",
       "      <td>150.042</td>\n",
       "      <td>323200</td>\n",
       "      <td>hardstyle</td>\n",
       "      <td>0</td>\n",
       "      <td>0</td>\n",
       "      <td>1</td>\n",
       "      <td>0</td>\n",
       "    </tr>\n",
       "    <tr>\n",
       "      <th>42304</th>\n",
       "      <td>0.529</td>\n",
       "      <td>0.945</td>\n",
       "      <td>9</td>\n",
       "      <td>-5.862</td>\n",
       "      <td>1</td>\n",
       "      <td>0.0615</td>\n",
       "      <td>0.001890</td>\n",
       "      <td>0.000055</td>\n",
       "      <td>0.4140</td>\n",
       "      <td>0.1340</td>\n",
       "      <td>155.047</td>\n",
       "      <td>162161</td>\n",
       "      <td>hardstyle</td>\n",
       "      <td>0</td>\n",
       "      <td>0</td>\n",
       "      <td>1</td>\n",
       "      <td>0</td>\n",
       "    </tr>\n",
       "  </tbody>\n",
       "</table>\n",
       "<p>42305 rows × 17 columns</p>\n",
       "</div>"
      ],
      "text/plain": [
       "       danceability  energy  key  loudness  mode  speechiness  acousticness  \\\n",
       "0             0.831   0.814    2    -7.364     1       0.4200      0.059800   \n",
       "1             0.719   0.493    8    -7.230     1       0.0794      0.401000   \n",
       "2             0.850   0.893    5    -4.783     1       0.0623      0.013800   \n",
       "3             0.476   0.781    0    -4.710     1       0.1030      0.023700   \n",
       "4             0.798   0.624    2    -7.668     1       0.2930      0.217000   \n",
       "...             ...     ...  ...       ...   ...          ...           ...   \n",
       "42300         0.528   0.693    4    -5.148     1       0.0304      0.031500   \n",
       "42301         0.517   0.768    0    -7.922     0       0.0479      0.022500   \n",
       "42302         0.361   0.821    8    -3.102     1       0.0505      0.026000   \n",
       "42303         0.477   0.921    6    -4.777     0       0.0392      0.000551   \n",
       "42304         0.529   0.945    9    -5.862     1       0.0615      0.001890   \n",
       "\n",
       "       instrumentalness  liveness  valence    tempo  duration_ms      genre  \\\n",
       "0              0.013400    0.0556   0.3890  156.985       124539  Dark Trap   \n",
       "1              0.000000    0.1180   0.1240  115.080       224427  Dark Trap   \n",
       "2              0.000004    0.3720   0.0391  218.050        98821  Dark Trap   \n",
       "3              0.000000    0.1140   0.1750  186.948       123661  Dark Trap   \n",
       "4              0.000000    0.1660   0.5910  147.988       123298  Dark Trap   \n",
       "...                 ...       ...      ...      ...          ...        ...   \n",
       "42300          0.000345    0.1210   0.3940  150.013       269208  hardstyle   \n",
       "42301          0.000018    0.2050   0.3830  149.928       210112  hardstyle   \n",
       "42302          0.000242    0.3850   0.1240  154.935       234823  hardstyle   \n",
       "42303          0.029600    0.0575   0.4880  150.042       323200  hardstyle   \n",
       "42304          0.000055    0.4140   0.1340  155.047       162161  hardstyle   \n",
       "\n",
       "       time_signature_1  time_signature_3  time_signature_4  time_signature_5  \n",
       "0                     0                 0                 1                 0  \n",
       "1                     0                 0                 1                 0  \n",
       "2                     0                 0                 1                 0  \n",
       "3                     0                 1                 0                 0  \n",
       "4                     0                 0                 1                 0  \n",
       "...                 ...               ...               ...               ...  \n",
       "42300                 0                 0                 1                 0  \n",
       "42301                 0                 0                 1                 0  \n",
       "42302                 0                 0                 1                 0  \n",
       "42303                 0                 0                 1                 0  \n",
       "42304                 0                 0                 1                 0  \n",
       "\n",
       "[42305 rows x 17 columns]"
      ]
     },
     "execution_count": 5,
     "metadata": {},
     "output_type": "execute_result"
    }
   ],
   "source": [
    "# one hot encode time signature\n",
    "df = pd.get_dummies(df, columns=['time_signature'], drop_first=False)\n",
    "df"
   ]
  },
  {
   "cell_type": "code",
   "execution_count": 6,
   "metadata": {},
   "outputs": [],
   "source": [
    "# Separate data into features and class labels\n",
    "features = df.iloc[:, :12]\n",
    "labels = df['genre']"
   ]
  },
  {
   "cell_type": "code",
   "execution_count": 7,
   "metadata": {},
   "outputs": [
    {
     "name": "stdout",
     "output_type": "stream",
     "text": [
      "genre\n",
      "Dark Trap          4578\n",
      "Emo                1680\n",
      "Hiphop             3028\n",
      "Pop                 461\n",
      "Rap                1848\n",
      "RnB                2099\n",
      "Trap Metal         1956\n",
      "Underground Rap    5875\n",
      "dnb                2966\n",
      "hardstyle          2936\n",
      "psytrance          2961\n",
      "techhouse          2975\n",
      "techno             2956\n",
      "trance             2999\n",
      "trap               2987\n",
      "dtype: int64\n"
     ]
    }
   ],
   "source": [
    "labels\n",
    "label_groups = df.groupby('genre')\n",
    "print(label_groups.size())"
   ]
  },
  {
   "cell_type": "code",
   "execution_count": 8,
   "metadata": {},
   "outputs": [
    {
     "data": {
      "text/plain": [
       "0"
      ]
     },
     "execution_count": 8,
     "metadata": {},
     "output_type": "execute_result"
    }
   ],
   "source": [
    "# There are no missing values:\n",
    "null_data = df[df.isnull().any(axis=1)]\n",
    "len(null_data)"
   ]
  },
  {
   "cell_type": "code",
   "execution_count": 30,
   "metadata": {},
   "outputs": [
    {
     "data": {
      "text/plain": [
       "[Text(0.5, 0, 'danceability'),\n",
       " Text(1.5, 0, 'energy'),\n",
       " Text(2.5, 0, 'key'),\n",
       " Text(3.5, 0, 'loudness'),\n",
       " Text(4.5, 0, 'mode'),\n",
       " Text(5.5, 0, 'speechiness'),\n",
       " Text(6.5, 0, 'acousticness'),\n",
       " Text(7.5, 0, 'instrumentalness'),\n",
       " Text(8.5, 0, 'liveness'),\n",
       " Text(9.5, 0, 'valence'),\n",
       " Text(10.5, 0, 'tempo'),\n",
       " Text(11.5, 0, 'duration_ms')]"
      ]
     },
     "execution_count": 30,
     "metadata": {},
     "output_type": "execute_result"
    },
    {
     "data": {
      "image/png": "[encoded data removed]",
      "text/plain": [
       "<Figure size 432x288 with 2 Axes>"
      ]
     },
     "metadata": {
      "needs_background": "light"
     },
     "output_type": "display_data"
    }
   ],
   "source": [
    "import seaborn as sns\n",
    "\n",
    "# correlation between features\n",
    "\n",
    "ax = sns.heatmap(\n",
    "    features.corr(), \n",
    "    vmin=-1, vmax=1, center=0,\n",
    "    cmap=sns.diverging_palette(20, 220, n=200),\n",
    "    square=True\n",
    ")\n",
    "\n",
    "ax.set_xticklabels(\n",
    "    ax.get_xticklabels(),\n",
    "    rotation=45,\n",
    "    horizontalalignment='right'\n",
    ")"
   ]
  },
  {
   "cell_type": "code",
   "execution_count": 9,
   "metadata": {},
   "outputs": [
    {
     "data": {
      "text/plain": [
       "[array([ 1, -1,  1, ...,  1,  1,  1]),\n",
       " array([ 1,  1, -1, ...,  1,  1,  1]),\n",
       " array([1, 1, 1, ..., 1, 1, 1]),\n",
       " array([-1,  1, -1, ...,  1, -1, -1], dtype=int64)]"
      ]
     },
     "execution_count": 9,
     "metadata": {},
     "output_type": "execute_result"
    }
   ],
   "source": [
    "# Perform Anomaly Detection\n",
    "from sklearn.covariance import EllipticEnvelope\n",
    "from sklearn.ensemble import IsolationForest\n",
    "from sklearn.neighbors import LocalOutlierFactor\n",
    "from sklearn.svm import OneClassSVM\n",
    "\n",
    "y_pred_list = []\n",
    "\n",
    "envelope_pred = EllipticEnvelope().fit_predict(features)\n",
    "y_pred_list.append(envelope_pred)\n",
    "\n",
    "# apply IsolationForest AD\n",
    "forest_pred = IsolationForest().fit_predict(features)\n",
    "y_pred_list.append(forest_pred)\n",
    "\n",
    "# apply LocalOutlierFactor AD\n",
    "lof_pred = LocalOutlierFactor().fit_predict(features)\n",
    "y_pred_list.append(lof_pred)\n",
    "\n",
    "y_pred_list"
   ]
  },
  {
   "cell_type": "code",
   "execution_count": 25,
   "metadata": {},
   "outputs": [
    {
     "name": "stdout",
     "output_type": "stream",
     "text": [
      "Counter({1: 38075, -1: 4230})\n",
      "Counter({1: 34135, -1: 8170})\n",
      "Counter({1: 40472, -1: 1833})\n",
      "Counter({1: 21153, -1: 21152})\n"
     ]
    }
   ],
   "source": [
    "from collections import Counter\n",
    "\n",
    "for arr in y_pred_list:\n",
    "    c = Counter(arr)\n",
    "    print(c)"
   ]
  },
  {
   "cell_type": "code",
   "execution_count": 10,
   "metadata": {},
   "outputs": [
    {
     "name": "stdout",
     "output_type": "stream",
     "text": [
      "num features before PCA:  12\n",
      "num features after PCA:  10\n"
     ]
    }
   ],
   "source": [
    "# Need to standardize for PCA.\n",
    "from sklearn.preprocessing import StandardScaler\n",
    "from sklearn.decomposition import PCA\n",
    "\n",
    "scaled_data = StandardScaler().fit_transform(features.values)\n",
    "music_data_scaled = pd.DataFrame(scaled_data, columns=features.columns)\n",
    "music_data_scaled.head()\n",
    "\n",
    "print(\"num features before PCA: \", len(features.columns))\n",
    "\n",
    "# your code goes here\n",
    "pca = PCA(n_components=0.95, svd_solver='full')\n",
    "pca_data = pca.fit_transform(music_data_scaled)\n",
    "music_data_pca = pd.DataFrame(pca_data)\n",
    "music_data_pca.head()\n",
    "\n",
    "print(\"num features after PCA: \", len(music_data_pca.columns))"
   ]
  },
  {
   "cell_type": "code",
   "execution_count": 11,
   "metadata": {},
   "outputs": [],
   "source": [
    "# Perform decision tree classification before PCA and then perform another decision tree after PCA"
   ]
  },
  {
   "attachments": {},
   "cell_type": "markdown",
   "metadata": {},
   "source": [
    "<h1> Model Building </h1>"
   ]
  },
  {
   "cell_type": "code",
   "execution_count": null,
   "metadata": {},
   "outputs": [],
   "source": []
  }
 ],
 "metadata": {
  "kernelspec": {
   "display_name": "Python 3",
   "language": "python",
   "name": "python3"
  },
  "language_info": {
   "codemirror_mode": {
    "name": "ipython",
    "version": 3
   },
   "file_extension": ".py",
   "mimetype": "text/x-python",
   "name": "python",
   "nbconvert_exporter": "python",
   "pygments_lexer": "ipython3",
   "version": "3.9.13"
  },
  "orig_nbformat": 4
 },
 "nbformat": 4,
 "nbformat_minor": 2
}
